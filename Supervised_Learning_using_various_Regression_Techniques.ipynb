{
  "nbformat": 4,
  "nbformat_minor": 0,
  "metadata": {
    "colab": {
      "name": "Supervised Learning using various Regression Techniques.ipynb",
      "provenance": [],
      "collapsed_sections": [
        "J4wfHZwQrs-t",
        "a9BPYqunry97",
        "7KMRBJ7zr9HD",
        "zSGyg6kWsBUl",
        "vTbdjSrhVIiT",
        "lQ2G4ZPDVOXE",
        "HPQviDmNtta8",
        "qjFHK1CKty7o",
        "HSsicSdvt4Zs"
      ],
      "toc_visible": true,
      "include_colab_link": true
    },
    "kernelspec": {
      "name": "python3",
      "display_name": "Python 3"
    }
  },
  "cells": [
    {
      "cell_type": "markdown",
      "metadata": {
        "id": "view-in-github",
        "colab_type": "text"
      },
      "source": [
        "<a href=\"https://colab.research.google.com/github/vivianusdjpy/Supervised-Learning-with-Various-Regression-Techniques/blob/master/Supervised_Learning_using_various_Regression_Techniques.ipynb\" target=\"_parent\"><img src=\"https://colab.research.google.com/assets/colab-badge.svg\" alt=\"Open In Colab\"/></a>"
      ]
    },
    {
      "cell_type": "markdown",
      "metadata": {
        "id": "xMxtPsqcTsSH",
        "colab_type": "text"
      },
      "source": [
        "# REGRESSION TECHNIQUES:\n",
        "# Predicting the Price of a House."
      ]
    },
    {
      "cell_type": "markdown",
      "metadata": {
        "id": "kLG2VTrnTvYL",
        "colab_type": "text"
      },
      "source": [
        "### a) Defining the Question\n",
        "\n",
        "As a Data Scientist, I have been recruited to work for Hass Consulting Company which is a real estate leader with over 25 years of experience. I have been tasked to study the factors that affect housing prices using the given information on real estate properties that was collected over the past few months. Later onwards, create a model that would allow the company to accurately predict the sale of prices upon being provided with the predictor variables."
      ]
    },
    {
      "cell_type": "markdown",
      "metadata": {
        "id": "J4wfHZwQrs-t",
        "colab_type": "text"
      },
      "source": [
        "### b) Defining the Metric for Success\n",
        "This project will be successful when:\n",
        "\n",
        "1)We Identify the most crucial independent variables that affect house prices. \n",
        "\n",
        "2)The Regression model achieves atleast 80% accuracy\n",
        "\n",
        "3)Have the lowest RMSE score possible\n"
      ]
    },
    {
      "cell_type": "markdown",
      "metadata": {
        "id": "a9BPYqunry97",
        "colab_type": "text"
      },
      "source": [
        "### c) Understanding the context \n",
        "HassConsult offers investment-grade developments all over the City. The developments have been conceptualized by their development team to be high quality assets using a data-driven approach in planning and design, that gears property for high rental returns and an escalated rate of capital growth."
      ]
    },
    {
      "cell_type": "markdown",
      "metadata": {
        "id": "7KMRBJ7zr9HD",
        "colab_type": "text"
      },
      "source": [
        "### d)Experimental Design\n",
        "The project was undertaken using the following design\n",
        "Datasets(Independent Project Week 7 - house_data.csv)\n",
        "\n",
        "Performing EDA\n",
        "\n",
        "Feature Engineering\n",
        "\n",
        "Multiple Linear Regression\n",
        "\n",
        "Quantile regression\n",
        "\n",
        "Ridge Regression\n",
        "\n",
        "Lasso Regression\n",
        "\n",
        "Elastic-Net Regression\n",
        "\n",
        "Computing the RMSE\n",
        "\n",
        "Plotting residual plots\n",
        "\n",
        "Assess their heteroscedasticity using Barlette's test\n",
        "\n",
        "Challenging the solution\n",
        "\n",
        "Conclusion"
      ]
    },
    {
      "cell_type": "markdown",
      "metadata": {
        "id": "zSGyg6kWsBUl",
        "colab_type": "text"
      },
      "source": [
        "### e) Data Relevance\n",
        "The relavance of our data will be answered by the following questions.\n",
        "\n",
        "How accurate is the data at predicting the Price of a house?\n",
        "\n",
        "Was the dataset sufficient?\n",
        "\n",
        "Was the data biased?\n",
        "\n",
        "Is the data source a reliable source?"
      ]
    },
    {
      "cell_type": "markdown",
      "metadata": {
        "id": "iUNbvIvnT7ep",
        "colab_type": "text"
      },
      "source": [
        "## 2. Reading the Data"
      ]
    },
    {
      "cell_type": "code",
      "metadata": {
        "id": "Ks4YDoIpqFTb",
        "colab_type": "code",
        "colab": {}
      },
      "source": [
        "#loading the libraries\n",
        "import pandas as pd\n",
        "import numpy as np\n",
        "import seaborn as sb\n",
        "from sklearn.preprocessing import LabelEncoder\n",
        "import matplotlib.pyplot as plt\n",
        "from sklearn.preprocessing import PolynomialFeatures\n",
        "from sklearn.model_selection import train_test_split\n",
        "from sklearn.linear_model import LinearRegression\n",
        "from sklearn.decomposition import PCA\n",
        "from sklearn.model_selection import train_test_split,GridSearchCV\n",
        "from sklearn.linear_model import LogisticRegression\n",
        "from sklearn.ensemble import RandomForestClassifier\n",
        "from sklearn.naive_bayes import GaussianNB\n",
        "from sklearn.metrics import mean_squared_error,r2_score,accuracy_score,f1_score,classification_report\n",
        "from sklearn.metrics import confusion_matrix\n",
        "from sklearn import metrics\n",
        "import warnings\n",
        "warnings.filterwarnings('ignore')\n",
        "%matplotlib inline"
      ],
      "execution_count": 0,
      "outputs": []
    },
    {
      "cell_type": "code",
      "metadata": {
        "id": "bw1TpUB5rLob",
        "colab_type": "code",
        "outputId": "60f214a4-ee1a-4828-c650-b8a1b54f2a19",
        "colab": {
          "base_uri": "https://localhost:8080/",
          "height": 222
        }
      },
      "source": [
        "#loading the dataset\n",
        "data = pd.read_csv('/content/Independent Project Week 7 - house_data.csv')\n",
        "data.head(5)"
      ],
      "execution_count": 6,
      "outputs": [
        {
          "output_type": "execute_result",
          "data": {
            "text/html": [
              "<div>\n",
              "<style scoped>\n",
              "    .dataframe tbody tr th:only-of-type {\n",
              "        vertical-align: middle;\n",
              "    }\n",
              "\n",
              "    .dataframe tbody tr th {\n",
              "        vertical-align: top;\n",
              "    }\n",
              "\n",
              "    .dataframe thead th {\n",
              "        text-align: right;\n",
              "    }\n",
              "</style>\n",
              "<table border=\"1\" class=\"dataframe\">\n",
              "  <thead>\n",
              "    <tr style=\"text-align: right;\">\n",
              "      <th></th>\n",
              "      <th>id</th>\n",
              "      <th>price</th>\n",
              "      <th>bedrooms</th>\n",
              "      <th>bathrooms</th>\n",
              "      <th>sqft_living</th>\n",
              "      <th>sqft_lot</th>\n",
              "      <th>floors</th>\n",
              "      <th>waterfront</th>\n",
              "      <th>view</th>\n",
              "      <th>condition</th>\n",
              "      <th>grade</th>\n",
              "      <th>sqft_above</th>\n",
              "      <th>sqft_basement</th>\n",
              "      <th>yr_built</th>\n",
              "      <th>yr_renovated</th>\n",
              "      <th>zipcode</th>\n",
              "      <th>lat</th>\n",
              "      <th>long</th>\n",
              "      <th>sqft_living15</th>\n",
              "      <th>sqft_lot15</th>\n",
              "    </tr>\n",
              "  </thead>\n",
              "  <tbody>\n",
              "    <tr>\n",
              "      <th>0</th>\n",
              "      <td>7129300520</td>\n",
              "      <td>221900.0</td>\n",
              "      <td>3</td>\n",
              "      <td>1.00</td>\n",
              "      <td>1180</td>\n",
              "      <td>5650</td>\n",
              "      <td>1.0</td>\n",
              "      <td>0</td>\n",
              "      <td>0</td>\n",
              "      <td>3</td>\n",
              "      <td>7</td>\n",
              "      <td>1180</td>\n",
              "      <td>0</td>\n",
              "      <td>1955</td>\n",
              "      <td>0</td>\n",
              "      <td>98178</td>\n",
              "      <td>47.5112</td>\n",
              "      <td>-122.257</td>\n",
              "      <td>1340</td>\n",
              "      <td>5650</td>\n",
              "    </tr>\n",
              "    <tr>\n",
              "      <th>1</th>\n",
              "      <td>6414100192</td>\n",
              "      <td>538000.0</td>\n",
              "      <td>3</td>\n",
              "      <td>2.25</td>\n",
              "      <td>2570</td>\n",
              "      <td>7242</td>\n",
              "      <td>2.0</td>\n",
              "      <td>0</td>\n",
              "      <td>0</td>\n",
              "      <td>3</td>\n",
              "      <td>7</td>\n",
              "      <td>2170</td>\n",
              "      <td>400</td>\n",
              "      <td>1951</td>\n",
              "      <td>1991</td>\n",
              "      <td>98125</td>\n",
              "      <td>47.7210</td>\n",
              "      <td>-122.319</td>\n",
              "      <td>1690</td>\n",
              "      <td>7639</td>\n",
              "    </tr>\n",
              "    <tr>\n",
              "      <th>2</th>\n",
              "      <td>5631500400</td>\n",
              "      <td>180000.0</td>\n",
              "      <td>2</td>\n",
              "      <td>1.00</td>\n",
              "      <td>770</td>\n",
              "      <td>10000</td>\n",
              "      <td>1.0</td>\n",
              "      <td>0</td>\n",
              "      <td>0</td>\n",
              "      <td>3</td>\n",
              "      <td>6</td>\n",
              "      <td>770</td>\n",
              "      <td>0</td>\n",
              "      <td>1933</td>\n",
              "      <td>0</td>\n",
              "      <td>98028</td>\n",
              "      <td>47.7379</td>\n",
              "      <td>-122.233</td>\n",
              "      <td>2720</td>\n",
              "      <td>8062</td>\n",
              "    </tr>\n",
              "    <tr>\n",
              "      <th>3</th>\n",
              "      <td>2487200875</td>\n",
              "      <td>604000.0</td>\n",
              "      <td>4</td>\n",
              "      <td>3.00</td>\n",
              "      <td>1960</td>\n",
              "      <td>5000</td>\n",
              "      <td>1.0</td>\n",
              "      <td>0</td>\n",
              "      <td>0</td>\n",
              "      <td>5</td>\n",
              "      <td>7</td>\n",
              "      <td>1050</td>\n",
              "      <td>910</td>\n",
              "      <td>1965</td>\n",
              "      <td>0</td>\n",
              "      <td>98136</td>\n",
              "      <td>47.5208</td>\n",
              "      <td>-122.393</td>\n",
              "      <td>1360</td>\n",
              "      <td>5000</td>\n",
              "    </tr>\n",
              "    <tr>\n",
              "      <th>4</th>\n",
              "      <td>1954400510</td>\n",
              "      <td>510000.0</td>\n",
              "      <td>3</td>\n",
              "      <td>2.00</td>\n",
              "      <td>1680</td>\n",
              "      <td>8080</td>\n",
              "      <td>1.0</td>\n",
              "      <td>0</td>\n",
              "      <td>0</td>\n",
              "      <td>3</td>\n",
              "      <td>8</td>\n",
              "      <td>1680</td>\n",
              "      <td>0</td>\n",
              "      <td>1987</td>\n",
              "      <td>0</td>\n",
              "      <td>98074</td>\n",
              "      <td>47.6168</td>\n",
              "      <td>-122.045</td>\n",
              "      <td>1800</td>\n",
              "      <td>7503</td>\n",
              "    </tr>\n",
              "  </tbody>\n",
              "</table>\n",
              "</div>"
            ],
            "text/plain": [
              "           id     price  bedrooms  ...     long  sqft_living15  sqft_lot15\n",
              "0  7129300520  221900.0         3  ... -122.257           1340        5650\n",
              "1  6414100192  538000.0         3  ... -122.319           1690        7639\n",
              "2  5631500400  180000.0         2  ... -122.233           2720        8062\n",
              "3  2487200875  604000.0         4  ... -122.393           1360        5000\n",
              "4  1954400510  510000.0         3  ... -122.045           1800        7503\n",
              "\n",
              "[5 rows x 20 columns]"
            ]
          },
          "metadata": {
            "tags": []
          },
          "execution_count": 6
        }
      ]
    },
    {
      "cell_type": "markdown",
      "metadata": {
        "id": "jIsSEv7TVN3B",
        "colab_type": "text"
      },
      "source": [
        ""
      ]
    },
    {
      "cell_type": "code",
      "metadata": {
        "id": "XJn2KjW-WMlG",
        "colab_type": "code",
        "outputId": "fed9142f-e17b-46ba-b334-d1d148870427",
        "colab": {
          "base_uri": "https://localhost:8080/",
          "height": 451
        }
      },
      "source": [
        "#obtaining information about the dataset\n",
        "data.info()\n",
        "#the data has 20 columns and no null values"
      ],
      "execution_count": 7,
      "outputs": [
        {
          "output_type": "stream",
          "text": [
            "<class 'pandas.core.frame.DataFrame'>\n",
            "RangeIndex: 21613 entries, 0 to 21612\n",
            "Data columns (total 20 columns):\n",
            "id               21613 non-null int64\n",
            "price            21613 non-null float64\n",
            "bedrooms         21613 non-null int64\n",
            "bathrooms        21613 non-null float64\n",
            "sqft_living      21613 non-null int64\n",
            "sqft_lot         21613 non-null int64\n",
            "floors           21613 non-null float64\n",
            "waterfront       21613 non-null int64\n",
            "view             21613 non-null int64\n",
            "condition        21613 non-null int64\n",
            "grade            21613 non-null int64\n",
            "sqft_above       21613 non-null int64\n",
            "sqft_basement    21613 non-null int64\n",
            "yr_built         21613 non-null int64\n",
            "yr_renovated     21613 non-null int64\n",
            "zipcode          21613 non-null int64\n",
            "lat              21613 non-null float64\n",
            "long             21613 non-null float64\n",
            "sqft_living15    21613 non-null int64\n",
            "sqft_lot15       21613 non-null int64\n",
            "dtypes: float64(5), int64(15)\n",
            "memory usage: 3.3 MB\n"
          ],
          "name": "stdout"
        }
      ]
    },
    {
      "cell_type": "code",
      "metadata": {
        "id": "FbgvVQZAwcNT",
        "colab_type": "code",
        "outputId": "738b427f-2573-4196-adaf-333d9b6e7c53",
        "colab": {
          "base_uri": "https://localhost:8080/",
          "height": 314
        }
      },
      "source": [
        "#describing the data using measures of central tendency(mean,mode and median) and measures\n",
        "#of dispersion(standard deviation, variance)\n",
        "data.describe()"
      ],
      "execution_count": 8,
      "outputs": [
        {
          "output_type": "execute_result",
          "data": {
            "text/html": [
              "<div>\n",
              "<style scoped>\n",
              "    .dataframe tbody tr th:only-of-type {\n",
              "        vertical-align: middle;\n",
              "    }\n",
              "\n",
              "    .dataframe tbody tr th {\n",
              "        vertical-align: top;\n",
              "    }\n",
              "\n",
              "    .dataframe thead th {\n",
              "        text-align: right;\n",
              "    }\n",
              "</style>\n",
              "<table border=\"1\" class=\"dataframe\">\n",
              "  <thead>\n",
              "    <tr style=\"text-align: right;\">\n",
              "      <th></th>\n",
              "      <th>id</th>\n",
              "      <th>price</th>\n",
              "      <th>bedrooms</th>\n",
              "      <th>bathrooms</th>\n",
              "      <th>sqft_living</th>\n",
              "      <th>sqft_lot</th>\n",
              "      <th>floors</th>\n",
              "      <th>waterfront</th>\n",
              "      <th>view</th>\n",
              "      <th>condition</th>\n",
              "      <th>grade</th>\n",
              "      <th>sqft_above</th>\n",
              "      <th>sqft_basement</th>\n",
              "      <th>yr_built</th>\n",
              "      <th>yr_renovated</th>\n",
              "      <th>zipcode</th>\n",
              "      <th>lat</th>\n",
              "      <th>long</th>\n",
              "      <th>sqft_living15</th>\n",
              "      <th>sqft_lot15</th>\n",
              "    </tr>\n",
              "  </thead>\n",
              "  <tbody>\n",
              "    <tr>\n",
              "      <th>count</th>\n",
              "      <td>2.161300e+04</td>\n",
              "      <td>2.161300e+04</td>\n",
              "      <td>21613.000000</td>\n",
              "      <td>21613.000000</td>\n",
              "      <td>21613.000000</td>\n",
              "      <td>2.161300e+04</td>\n",
              "      <td>21613.000000</td>\n",
              "      <td>21613.000000</td>\n",
              "      <td>21613.000000</td>\n",
              "      <td>21613.000000</td>\n",
              "      <td>21613.000000</td>\n",
              "      <td>21613.000000</td>\n",
              "      <td>21613.000000</td>\n",
              "      <td>21613.000000</td>\n",
              "      <td>21613.000000</td>\n",
              "      <td>21613.000000</td>\n",
              "      <td>21613.000000</td>\n",
              "      <td>21613.000000</td>\n",
              "      <td>21613.000000</td>\n",
              "      <td>21613.000000</td>\n",
              "    </tr>\n",
              "    <tr>\n",
              "      <th>mean</th>\n",
              "      <td>4.580302e+09</td>\n",
              "      <td>5.401822e+05</td>\n",
              "      <td>3.370842</td>\n",
              "      <td>2.114757</td>\n",
              "      <td>2079.899736</td>\n",
              "      <td>1.510697e+04</td>\n",
              "      <td>1.494309</td>\n",
              "      <td>0.007542</td>\n",
              "      <td>0.234303</td>\n",
              "      <td>3.409430</td>\n",
              "      <td>7.656873</td>\n",
              "      <td>1788.390691</td>\n",
              "      <td>291.509045</td>\n",
              "      <td>1971.005136</td>\n",
              "      <td>84.402258</td>\n",
              "      <td>98077.939805</td>\n",
              "      <td>47.560053</td>\n",
              "      <td>-122.213896</td>\n",
              "      <td>1986.552492</td>\n",
              "      <td>12768.455652</td>\n",
              "    </tr>\n",
              "    <tr>\n",
              "      <th>std</th>\n",
              "      <td>2.876566e+09</td>\n",
              "      <td>3.673622e+05</td>\n",
              "      <td>0.930062</td>\n",
              "      <td>0.770163</td>\n",
              "      <td>918.440897</td>\n",
              "      <td>4.142051e+04</td>\n",
              "      <td>0.539989</td>\n",
              "      <td>0.086517</td>\n",
              "      <td>0.766318</td>\n",
              "      <td>0.650743</td>\n",
              "      <td>1.175459</td>\n",
              "      <td>828.090978</td>\n",
              "      <td>442.575043</td>\n",
              "      <td>29.373411</td>\n",
              "      <td>401.679240</td>\n",
              "      <td>53.505026</td>\n",
              "      <td>0.138564</td>\n",
              "      <td>0.140828</td>\n",
              "      <td>685.391304</td>\n",
              "      <td>27304.179631</td>\n",
              "    </tr>\n",
              "    <tr>\n",
              "      <th>min</th>\n",
              "      <td>1.000102e+06</td>\n",
              "      <td>7.500000e+04</td>\n",
              "      <td>0.000000</td>\n",
              "      <td>0.000000</td>\n",
              "      <td>290.000000</td>\n",
              "      <td>5.200000e+02</td>\n",
              "      <td>1.000000</td>\n",
              "      <td>0.000000</td>\n",
              "      <td>0.000000</td>\n",
              "      <td>1.000000</td>\n",
              "      <td>1.000000</td>\n",
              "      <td>290.000000</td>\n",
              "      <td>0.000000</td>\n",
              "      <td>1900.000000</td>\n",
              "      <td>0.000000</td>\n",
              "      <td>98001.000000</td>\n",
              "      <td>47.155900</td>\n",
              "      <td>-122.519000</td>\n",
              "      <td>399.000000</td>\n",
              "      <td>651.000000</td>\n",
              "    </tr>\n",
              "    <tr>\n",
              "      <th>25%</th>\n",
              "      <td>2.123049e+09</td>\n",
              "      <td>3.219500e+05</td>\n",
              "      <td>3.000000</td>\n",
              "      <td>1.750000</td>\n",
              "      <td>1427.000000</td>\n",
              "      <td>5.040000e+03</td>\n",
              "      <td>1.000000</td>\n",
              "      <td>0.000000</td>\n",
              "      <td>0.000000</td>\n",
              "      <td>3.000000</td>\n",
              "      <td>7.000000</td>\n",
              "      <td>1190.000000</td>\n",
              "      <td>0.000000</td>\n",
              "      <td>1951.000000</td>\n",
              "      <td>0.000000</td>\n",
              "      <td>98033.000000</td>\n",
              "      <td>47.471000</td>\n",
              "      <td>-122.328000</td>\n",
              "      <td>1490.000000</td>\n",
              "      <td>5100.000000</td>\n",
              "    </tr>\n",
              "    <tr>\n",
              "      <th>50%</th>\n",
              "      <td>3.904930e+09</td>\n",
              "      <td>4.500000e+05</td>\n",
              "      <td>3.000000</td>\n",
              "      <td>2.250000</td>\n",
              "      <td>1910.000000</td>\n",
              "      <td>7.618000e+03</td>\n",
              "      <td>1.500000</td>\n",
              "      <td>0.000000</td>\n",
              "      <td>0.000000</td>\n",
              "      <td>3.000000</td>\n",
              "      <td>7.000000</td>\n",
              "      <td>1560.000000</td>\n",
              "      <td>0.000000</td>\n",
              "      <td>1975.000000</td>\n",
              "      <td>0.000000</td>\n",
              "      <td>98065.000000</td>\n",
              "      <td>47.571800</td>\n",
              "      <td>-122.230000</td>\n",
              "      <td>1840.000000</td>\n",
              "      <td>7620.000000</td>\n",
              "    </tr>\n",
              "    <tr>\n",
              "      <th>75%</th>\n",
              "      <td>7.308900e+09</td>\n",
              "      <td>6.450000e+05</td>\n",
              "      <td>4.000000</td>\n",
              "      <td>2.500000</td>\n",
              "      <td>2550.000000</td>\n",
              "      <td>1.068800e+04</td>\n",
              "      <td>2.000000</td>\n",
              "      <td>0.000000</td>\n",
              "      <td>0.000000</td>\n",
              "      <td>4.000000</td>\n",
              "      <td>8.000000</td>\n",
              "      <td>2210.000000</td>\n",
              "      <td>560.000000</td>\n",
              "      <td>1997.000000</td>\n",
              "      <td>0.000000</td>\n",
              "      <td>98118.000000</td>\n",
              "      <td>47.678000</td>\n",
              "      <td>-122.125000</td>\n",
              "      <td>2360.000000</td>\n",
              "      <td>10083.000000</td>\n",
              "    </tr>\n",
              "    <tr>\n",
              "      <th>max</th>\n",
              "      <td>9.900000e+09</td>\n",
              "      <td>7.700000e+06</td>\n",
              "      <td>33.000000</td>\n",
              "      <td>8.000000</td>\n",
              "      <td>13540.000000</td>\n",
              "      <td>1.651359e+06</td>\n",
              "      <td>3.500000</td>\n",
              "      <td>1.000000</td>\n",
              "      <td>4.000000</td>\n",
              "      <td>5.000000</td>\n",
              "      <td>13.000000</td>\n",
              "      <td>9410.000000</td>\n",
              "      <td>4820.000000</td>\n",
              "      <td>2015.000000</td>\n",
              "      <td>2015.000000</td>\n",
              "      <td>98199.000000</td>\n",
              "      <td>47.777600</td>\n",
              "      <td>-121.315000</td>\n",
              "      <td>6210.000000</td>\n",
              "      <td>871200.000000</td>\n",
              "    </tr>\n",
              "  </tbody>\n",
              "</table>\n",
              "</div>"
            ],
            "text/plain": [
              "                 id         price  ...  sqft_living15     sqft_lot15\n",
              "count  2.161300e+04  2.161300e+04  ...   21613.000000   21613.000000\n",
              "mean   4.580302e+09  5.401822e+05  ...    1986.552492   12768.455652\n",
              "std    2.876566e+09  3.673622e+05  ...     685.391304   27304.179631\n",
              "min    1.000102e+06  7.500000e+04  ...     399.000000     651.000000\n",
              "25%    2.123049e+09  3.219500e+05  ...    1490.000000    5100.000000\n",
              "50%    3.904930e+09  4.500000e+05  ...    1840.000000    7620.000000\n",
              "75%    7.308900e+09  6.450000e+05  ...    2360.000000   10083.000000\n",
              "max    9.900000e+09  7.700000e+06  ...    6210.000000  871200.000000\n",
              "\n",
              "[8 rows x 20 columns]"
            ]
          },
          "metadata": {
            "tags": []
          },
          "execution_count": 8
        }
      ]
    },
    {
      "cell_type": "markdown",
      "metadata": {
        "id": "hG9Mj0NsWz8f",
        "colab_type": "text"
      },
      "source": [
        "# Univariate Analysis"
      ]
    },
    {
      "cell_type": "markdown",
      "metadata": {
        "id": "0DfEyBbj2tPm",
        "colab_type": "text"
      },
      "source": [
        "#Price column\n",
        "This is the dependent variable which we are trying to predict."
      ]
    },
    {
      "cell_type": "code",
      "metadata": {
        "id": "38vACfMi23HE",
        "colab_type": "code",
        "outputId": "6df8aca9-f284-4d07-f4d6-79ca03554859",
        "colab": {
          "base_uri": "https://localhost:8080/",
          "height": 173
        }
      },
      "source": [
        "#describing the price column in the dataset using measures of central tendency and measures of dispersion\n",
        "data['price'].describe()"
      ],
      "execution_count": 9,
      "outputs": [
        {
          "output_type": "execute_result",
          "data": {
            "text/plain": [
              "count    2.161300e+04\n",
              "mean     5.401822e+05\n",
              "std      3.673622e+05\n",
              "min      7.500000e+04\n",
              "25%      3.219500e+05\n",
              "50%      4.500000e+05\n",
              "75%      6.450000e+05\n",
              "max      7.700000e+06\n",
              "Name: price, dtype: float64"
            ]
          },
          "metadata": {
            "tags": []
          },
          "execution_count": 9
        }
      ]
    },
    {
      "cell_type": "markdown",
      "metadata": {
        "id": "EVnCqKMfPM8d",
        "colab_type": "text"
      },
      "source": [
        "#Bedrooms\n",
        "This column indicates the number of bedrooms in the house"
      ]
    },
    {
      "cell_type": "code",
      "metadata": {
        "id": "5hCBAljlPMTb",
        "colab_type": "code",
        "outputId": "57efa3cc-aee1-4e28-a3f4-b03730ccc2f5",
        "colab": {
          "base_uri": "https://localhost:8080/",
          "height": 35
        }
      },
      "source": [
        "data.bedrooms.nunique()\n",
        "#There are 13 unique vales for the number of bedrooms in the house\n",
        "data.bedrooms.unique()\n",
        "#The unique values are\n",
        "[ 3,  2,  4,  5,  1,  6,  7,  0,  8,  9, 11, 10, 33]\n",
        "#data.bedrooms.value_counts()"
      ],
      "execution_count": 10,
      "outputs": [
        {
          "output_type": "execute_result",
          "data": {
            "text/plain": [
              "[3, 2, 4, 5, 1, 6, 7, 0, 8, 9, 11, 10, 33]"
            ]
          },
          "metadata": {
            "tags": []
          },
          "execution_count": 10
        }
      ]
    },
    {
      "cell_type": "code",
      "metadata": {
        "id": "eaZaUTX-P5PQ",
        "colab_type": "code",
        "outputId": "d62a1bd0-04df-4fcb-fb74-222f449253d3",
        "colab": {
          "base_uri": "https://localhost:8080/",
          "height": 302
        }
      },
      "source": [
        "#visualizing the distribution of bedrooms in the dataset\n",
        "sb.countplot('bedrooms',data = data)\n",
        "plt.xlabel(\"bedrooms\",fontsize=15)\n",
        "plt.ylabel(\"COUNT\",fontsize=15)\n",
        "plt.title(\"Countplot of Bedrooms\",fontsize=16,color=\"white\")\n",
        "plt.show()\n",
        "#The distribution is normal"
      ],
      "execution_count": 11,
      "outputs": [
        {
          "output_type": "display_data",
          "data": {
            "image/png": "[encoded data removed]",
            "text/plain": [
              "<Figure size 432x288 with 1 Axes>"
            ]
          },
          "metadata": {
            "tags": []
          }
        }
      ]
    },
    {
      "cell_type": "code",
      "metadata": {
        "id": "FDexYZQTRACF",
        "colab_type": "code",
        "outputId": "65ce79a0-624d-4d54-84c6-562097a089f5",
        "colab": {
          "base_uri": "https://localhost:8080/",
          "height": 301
        }
      },
      "source": [
        "#checking for outliers\n",
        "data.boxplot(column=['bedrooms'])\n",
        "plt.title(\"Boxplot of Bedrooms\",fontsize=16,color=\"white\")\n",
        "#there are a few outliers"
      ],
      "execution_count": 12,
      "outputs": [
        {
          "output_type": "execute_result",
          "data": {
            "text/plain": [
              "Text(0.5, 1.0, 'Boxplot of Bedrooms')"
            ]
          },
          "metadata": {
            "tags": []
          },
          "execution_count": 12
        },
        {
          "output_type": "display_data",
          "data": {
            "image/png": "[encoded data removed]",
            "text/plain": [
              "<Figure size 432x288 with 1 Axes>"
            ]
          },
          "metadata": {
            "tags": []
          }
        }
      ]
    },
    {
      "cell_type": "code",
      "metadata": {
        "id": "-XZlsrFrSal1",
        "colab_type": "code",
        "colab": {}
      },
      "source": [
        "#dropping the outlier\n",
        "#creating a copy\n",
        "data1 = data\n",
        "data1.drop(data1.index[data1['bedrooms'] == 33], inplace = True)"
      ],
      "execution_count": 0,
      "outputs": []
    },
    {
      "cell_type": "code",
      "metadata": {
        "id": "u8Gz79SxTG6G",
        "colab_type": "code",
        "outputId": "1a0b0221-fddd-4cc3-aa82-2421287a274a",
        "colab": {
          "base_uri": "https://localhost:8080/",
          "height": 35
        }
      },
      "source": [
        "#one values has been dropped\n",
        "data1.shape"
      ],
      "execution_count": 14,
      "outputs": [
        {
          "output_type": "execute_result",
          "data": {
            "text/plain": [
              "(21612, 20)"
            ]
          },
          "metadata": {
            "tags": []
          },
          "execution_count": 14
        }
      ]
    },
    {
      "cell_type": "markdown",
      "metadata": {
        "id": "Veoea8k5V68R",
        "colab_type": "text"
      },
      "source": [
        "#Bathrooms Column\n",
        "This column gives the number of bathrooms in the house"
      ]
    },
    {
      "cell_type": "code",
      "metadata": {
        "id": "G4qBmaMXV6hv",
        "colab_type": "code",
        "outputId": "9a12b824-5001-47ca-e678-f624bef11a8c",
        "colab": {
          "base_uri": "https://localhost:8080/",
          "height": 173
        }
      },
      "source": [
        "data1.bathrooms.nunique()\n",
        "#there are 30 unique values\n",
        "data1.bathrooms.describe()"
      ],
      "execution_count": 15,
      "outputs": [
        {
          "output_type": "execute_result",
          "data": {
            "text/plain": [
              "count    21612.000000\n",
              "mean         2.114774\n",
              "std          0.770177\n",
              "min          0.000000\n",
              "25%          1.750000\n",
              "50%          2.250000\n",
              "75%          2.500000\n",
              "max          8.000000\n",
              "Name: bathrooms, dtype: float64"
            ]
          },
          "metadata": {
            "tags": []
          },
          "execution_count": 15
        }
      ]
    },
    {
      "cell_type": "code",
      "metadata": {
        "id": "pyrBZzJVWgcI",
        "colab_type": "code",
        "outputId": "2dcf3271-a08b-4986-c87a-493560415bc4",
        "colab": {
          "base_uri": "https://localhost:8080/",
          "height": 302
        }
      },
      "source": [
        "#visualizing the distribution of bathrooms in the dataset\n",
        "sb.countplot('bathrooms',data = data1)\n",
        "plt.xlabel(\"bathrooms\",fontsize=15)\n",
        "plt.ylabel(\"COUNT\",fontsize=15)\n",
        "plt.title(\"Countplot of Bathrooms\",fontsize=16,color=\"white\")\n",
        "plt.show()\n",
        "#The distribution is right skewed"
      ],
      "execution_count": 16,
      "outputs": [
        {
          "output_type": "display_data",
          "data": {
            "image/png": "[encoded data removed]",
            "text/plain": [
              "<Figure size 432x288 with 1 Axes>"
            ]
          },
          "metadata": {
            "tags": []
          }
        }
      ]
    },
    {
      "cell_type": "markdown",
      "metadata": {
        "id": "VSwfjqV77ihR",
        "colab_type": "text"
      },
      "source": [
        ""
      ]
    },
    {
      "cell_type": "code",
      "metadata": {
        "id": "rzicdOlBXSox",
        "colab_type": "code",
        "outputId": "aa33794c-9c42-4a47-ed80-aafa4e92b8ac",
        "colab": {
          "base_uri": "https://localhost:8080/",
          "height": 301
        }
      },
      "source": [
        "#checking the bathrooms column distribution using a boxplot\n",
        "data1.boxplot(column=['bathrooms'])\n",
        "plt.title(\"Boxplot of Bathrooms\",fontsize=16,color=\"white\")"
      ],
      "execution_count": 17,
      "outputs": [
        {
          "output_type": "execute_result",
          "data": {
            "text/plain": [
              "Text(0.5, 1.0, 'Boxplot of Bathrooms')"
            ]
          },
          "metadata": {
            "tags": []
          },
          "execution_count": 17
        },
        {
          "output_type": "display_data",
          "data": {
            "image/png": "[encoded data removed]",
            "text/plain": [
              "<Figure size 432x288 with 1 Axes>"
            ]
          },
          "metadata": {
            "tags": []
          }
        }
      ]
    },
    {
      "cell_type": "markdown",
      "metadata": {
        "id": "Z93fYApTZeys",
        "colab_type": "text"
      },
      "source": [
        "#View Column\n",
        "The view column shows the number of views that the house has and the value ranges from 0 to 4"
      ]
    },
    {
      "cell_type": "code",
      "metadata": {
        "id": "YjSVNwgptHxY",
        "colab_type": "code",
        "outputId": "98dc67f0-06be-41eb-e328-f86538b9f81d",
        "colab": {
          "base_uri": "https://localhost:8080/",
          "height": 35
        }
      },
      "source": [
        "#There are 5 unique values for the view column\n",
        "data1.view.unique()"
      ],
      "execution_count": 18,
      "outputs": [
        {
          "output_type": "execute_result",
          "data": {
            "text/plain": [
              "array([0, 3, 4, 2, 1])"
            ]
          },
          "metadata": {
            "tags": []
          },
          "execution_count": 18
        }
      ]
    },
    {
      "cell_type": "code",
      "metadata": {
        "id": "VA0-io6950Ow",
        "colab_type": "code",
        "outputId": "05e63778-17d0-4c06-e903-19d3644eeac9",
        "colab": {
          "base_uri": "https://localhost:8080/",
          "height": 121
        }
      },
      "source": [
        "#counting the number of values in the view column.\n",
        "data1['view'].value_counts()"
      ],
      "execution_count": 19,
      "outputs": [
        {
          "output_type": "execute_result",
          "data": {
            "text/plain": [
              "0    19488\n",
              "2      963\n",
              "3      510\n",
              "1      332\n",
              "4      319\n",
              "Name: view, dtype: int64"
            ]
          },
          "metadata": {
            "tags": []
          },
          "execution_count": 19
        }
      ]
    },
    {
      "cell_type": "code",
      "metadata": {
        "id": "BsXU5uQctcBr",
        "colab_type": "code",
        "outputId": "c422fca9-57d8-4769-c0c7-c0718e0def0f",
        "colab": {
          "base_uri": "https://localhost:8080/",
          "height": 302
        }
      },
      "source": [
        "sb.countplot('view',data = data1)\n",
        "plt.xlabel(\"view\",fontsize=15)\n",
        "plt.ylabel(\"COUNT\",fontsize=15)\n",
        "plt.title(\"Countplot of VIEW\",fontsize=16,color=\"white\")\n",
        "plt.show()\n",
        "#generally, there is a high probability to win a match than lose or draw"
      ],
      "execution_count": 20,
      "outputs": [
        {
          "output_type": "display_data",
          "data": {
            "image/png": "[encoded data removed]",
            "text/plain": [
              "<Figure size 432x288 with 1 Axes>"
            ]
          },
          "metadata": {
            "tags": []
          }
        }
      ]
    },
    {
      "cell_type": "markdown",
      "metadata": {
        "id": "mZeI2hhk7qub",
        "colab_type": "text"
      },
      "source": [
        "#### 90.2 percent of the data in the view column consists of zeros. This column  does not provide alot of information thus we drop it."
      ]
    },
    {
      "cell_type": "code",
      "metadata": {
        "id": "pi3JzuuedZzv",
        "colab_type": "code",
        "colab": {}
      },
      "source": [
        "#creating a copy\n",
        "data2 = data1"
      ],
      "execution_count": 0,
      "outputs": []
    },
    {
      "cell_type": "code",
      "metadata": {
        "id": "QtDPYUsfaIs4",
        "colab_type": "code",
        "outputId": "bd1ab050-3ef6-442a-df4a-972708769cdf",
        "colab": {
          "base_uri": "https://localhost:8080/",
          "height": 35
        }
      },
      "source": [
        "#Dropping the view column\n",
        "data2.drop('view', axis=1, inplace=True)\n",
        "data2.shape\n"
      ],
      "execution_count": 22,
      "outputs": [
        {
          "output_type": "execute_result",
          "data": {
            "text/plain": [
              "(21612, 19)"
            ]
          },
          "metadata": {
            "tags": []
          },
          "execution_count": 22
        }
      ]
    },
    {
      "cell_type": "markdown",
      "metadata": {
        "id": "gYv5ZFQue07R",
        "colab_type": "text"
      },
      "source": [
        "###View column dropped!"
      ]
    },
    {
      "cell_type": "markdown",
      "metadata": {
        "id": "hQUTaeg94Gdl",
        "colab_type": "text"
      },
      "source": [
        "# Waterfront column\n",
        "Boolean"
      ]
    },
    {
      "cell_type": "code",
      "metadata": {
        "id": "qWv_E-dg4lsR",
        "colab_type": "code",
        "outputId": "6c0c6364-baf6-4b27-867e-d1a91f0a6e91",
        "colab": {
          "base_uri": "https://localhost:8080/",
          "height": 35
        }
      },
      "source": [
        "#The waterfront column is boolean.\n",
        "# 0 indicates no waterfront while 1 indicates presence of a waterfront\n",
        "#\n",
        "data2.waterfront.unique()"
      ],
      "execution_count": 23,
      "outputs": [
        {
          "output_type": "execute_result",
          "data": {
            "text/plain": [
              "array([0, 1])"
            ]
          },
          "metadata": {
            "tags": []
          },
          "execution_count": 23
        }
      ]
    },
    {
      "cell_type": "code",
      "metadata": {
        "id": "S3hpGypr2KKD",
        "colab_type": "code",
        "outputId": "bd5966af-c037-4c1e-bf46-c3dd3ad19ed4",
        "colab": {
          "base_uri": "https://localhost:8080/",
          "height": 302
        }
      },
      "source": [
        "sb.countplot('waterfront',data = data2)\n",
        "plt.xlabel(\"waterfront\",fontsize=15)\n",
        "plt.ylabel(\"COUNT\",fontsize=15)\n",
        "plt.title(\"Countplot of WaterFront\",fontsize=16,color=\"white\")\n",
        "plt.show()\n",
        "#generally, there is a high probability to win a match than lose or draw"
      ],
      "execution_count": 24,
      "outputs": [
        {
          "output_type": "display_data",
          "data": {
            "image/png": "[encoded data removed]",
            "text/plain": [
              "<Figure size 432x288 with 1 Axes>"
            ]
          },
          "metadata": {
            "tags": []
          }
        }
      ]
    },
    {
      "cell_type": "markdown",
      "metadata": {
        "id": "ujkpDq5lfHKT",
        "colab_type": "text"
      },
      "source": [
        "### Most of the houses do not have a Waterfront."
      ]
    },
    {
      "cell_type": "markdown",
      "metadata": {
        "id": "2BCAzGSmfc2T",
        "colab_type": "text"
      },
      "source": [
        "#Condition\n",
        "Ordinal column that ranks the condition of a house from 1 to 5. 1 is a low ranking while 5 is the highest ranking."
      ]
    },
    {
      "cell_type": "code",
      "metadata": {
        "id": "oATpCDdef9bL",
        "colab_type": "code",
        "outputId": "a4dac6f2-eb9d-4bf3-821b-a97020b0f44d",
        "colab": {
          "base_uri": "https://localhost:8080/",
          "height": 35
        }
      },
      "source": [
        "data2.condition.unique()\n",
        "#The condition values from 1 to 5"
      ],
      "execution_count": 25,
      "outputs": [
        {
          "output_type": "execute_result",
          "data": {
            "text/plain": [
              "array([3, 5, 4, 1, 2])"
            ]
          },
          "metadata": {
            "tags": []
          },
          "execution_count": 25
        }
      ]
    },
    {
      "cell_type": "code",
      "metadata": {
        "id": "RMCqfdZxgi0x",
        "colab_type": "code",
        "outputId": "782f019e-075f-4c27-fda6-7bfd0326ac8e",
        "colab": {
          "base_uri": "https://localhost:8080/",
          "height": 302
        }
      },
      "source": [
        "#visualizing the distribution of the condition of houses\n",
        "sb.countplot('condition',data = data1)\n",
        "plt.xlabel(\"condition\",fontsize=15)\n",
        "plt.ylabel(\"COUNT\",fontsize=15)\n",
        "plt.title(\"Countplot of Condition\",fontsize=16,color=\"white\")\n",
        "plt.show()\n",
        "#The distribution is right skewed"
      ],
      "execution_count": 26,
      "outputs": [
        {
          "output_type": "display_data",
          "data": {
            "image/png": "[encoded data removed]",
            "text/plain": [
              "<Figure size 432x288 with 1 Axes>"
            ]
          },
          "metadata": {
            "tags": []
          }
        }
      ]
    },
    {
      "cell_type": "markdown",
      "metadata": {
        "id": "jRHjAk1Lg358",
        "colab_type": "text"
      },
      "source": [
        "####Most of the houses have an above average condition."
      ]
    },
    {
      "cell_type": "markdown",
      "metadata": {
        "id": "z0_Rnb3BfeSZ",
        "colab_type": "text"
      },
      "source": [
        "#Grade"
      ]
    },
    {
      "cell_type": "code",
      "metadata": {
        "id": "asQ0l3rohN1p",
        "colab_type": "code",
        "outputId": "4b15c282-e8d0-4dfe-ecb8-add6a27745d2",
        "colab": {
          "base_uri": "https://localhost:8080/",
          "height": 35
        }
      },
      "source": [
        "data2.grade.unique()"
      ],
      "execution_count": 27,
      "outputs": [
        {
          "output_type": "execute_result",
          "data": {
            "text/plain": [
              "array([ 7,  6,  8, 11,  9,  5, 10, 12,  4,  3, 13,  1])"
            ]
          },
          "metadata": {
            "tags": []
          },
          "execution_count": 27
        }
      ]
    },
    {
      "cell_type": "code",
      "metadata": {
        "id": "opV3Y_6GhpUg",
        "colab_type": "code",
        "outputId": "ecc7ebf4-7a1e-4b84-a130-6a126119dc8c",
        "colab": {
          "base_uri": "https://localhost:8080/",
          "height": 302
        }
      },
      "source": [
        "#visualizing the distribution of the condition of houses\n",
        "sb.countplot('grade',data = data2)\n",
        "plt.xlabel(\"grade\",fontsize=15)\n",
        "plt.ylabel(\"COUNT\",fontsize=15)\n",
        "plt.title(\"Countplot of Grade\",fontsize=16,color=\"white\")\n",
        "plt.show()\n",
        "#The Grade with the highest count is 7 followed by 8."
      ],
      "execution_count": 28,
      "outputs": [
        {
          "output_type": "display_data",
          "data": {
            "image/png": "[encoded data removed]",
            "text/plain": [
              "<Figure size 432x288 with 1 Axes>"
            ]
          },
          "metadata": {
            "tags": []
          }
        }
      ]
    },
    {
      "cell_type": "markdown",
      "metadata": {
        "id": "G5_4fnYOflpQ",
        "colab_type": "text"
      },
      "source": [
        "#Yr_built"
      ]
    },
    {
      "cell_type": "code",
      "metadata": {
        "id": "7T7DqJW6kTfB",
        "colab_type": "code",
        "outputId": "c530c7bf-e8c8-4a57-d476-cf8bd716be27",
        "colab": {
          "base_uri": "https://localhost:8080/",
          "height": 208
        }
      },
      "source": [
        "data2.yr_built.unique()\n",
        "#the data is for houses built between 1935 and 1955"
      ],
      "execution_count": 29,
      "outputs": [
        {
          "output_type": "execute_result",
          "data": {
            "text/plain": [
              "array([1955, 1951, 1933, 1965, 1987, 2001, 1995, 1963, 1960, 2003, 1942,\n",
              "       1927, 1977, 1900, 1979, 1994, 1916, 1921, 1969, 1947, 1968, 1985,\n",
              "       1941, 1915, 1909, 1948, 2005, 1929, 1981, 1930, 1904, 1996, 2000,\n",
              "       1984, 2014, 1922, 1959, 1966, 1953, 1950, 2008, 1991, 1954, 1973,\n",
              "       1925, 1989, 1972, 1986, 1956, 2002, 1992, 1964, 1952, 1961, 2006,\n",
              "       1988, 1962, 1939, 1946, 1967, 1975, 1980, 1910, 1983, 1978, 1905,\n",
              "       1971, 2010, 1945, 1924, 1990, 1914, 1926, 2004, 1923, 2007, 1976,\n",
              "       1949, 1999, 1901, 1993, 1920, 1997, 1943, 1957, 1940, 1918, 1928,\n",
              "       1974, 1911, 1936, 1937, 1982, 1908, 1931, 1998, 1913, 2013, 1907,\n",
              "       1958, 2012, 1912, 2011, 1917, 1932, 1944, 1902, 2009, 1903, 1970,\n",
              "       2015, 1934, 1938, 1919, 1906, 1935])"
            ]
          },
          "metadata": {
            "tags": []
          },
          "execution_count": 29
        }
      ]
    },
    {
      "cell_type": "markdown",
      "metadata": {
        "id": "6aqvUzMJfqzR",
        "colab_type": "text"
      },
      "source": [
        "#Yr_renovated"
      ]
    },
    {
      "cell_type": "code",
      "metadata": {
        "id": "UUNAAhgXlt6O",
        "colab_type": "code",
        "outputId": "4ec0af46-9583-4786-8078-feb0360a89a5",
        "colab": {
          "base_uri": "https://localhost:8080/",
          "height": 139
        }
      },
      "source": [
        "data2.yr_renovated.unique()"
      ],
      "execution_count": 30,
      "outputs": [
        {
          "output_type": "execute_result",
          "data": {
            "text/plain": [
              "array([   0, 1991, 2002, 2010, 1999, 1992, 2013, 1994, 1978, 2005, 2008,\n",
              "       2003, 1984, 1954, 2014, 2011, 1974, 1983, 1945, 1990, 1988, 1957,\n",
              "       1977, 1981, 1995, 2000, 1998, 1970, 1989, 2004, 1986, 2009, 2007,\n",
              "       1987, 1973, 2006, 1985, 2001, 1980, 1971, 1979, 1997, 1950, 1969,\n",
              "       1948, 2015, 1968, 2012, 1963, 1951, 1993, 1962, 1996, 1972, 1953,\n",
              "       1955, 1982, 1956, 1940, 1976, 1946, 1975, 1958, 1964, 1959, 1960,\n",
              "       1967, 1965, 1934, 1944])"
            ]
          },
          "metadata": {
            "tags": []
          },
          "execution_count": 30
        }
      ]
    },
    {
      "cell_type": "code",
      "metadata": {
        "id": "su-RLmOMl8d9",
        "colab_type": "code",
        "outputId": "8f405606-5922-43a6-a87b-5bf5e2789306",
        "colab": {
          "base_uri": "https://localhost:8080/",
          "height": 304
        }
      },
      "source": [
        "#visualizing the distribution of the condition of houses\n",
        "sb.countplot('yr_renovated',data = data2)\n",
        "plt.xlabel(\"yr_renovated\",fontsize=15)\n",
        "plt.ylabel(\"COUNT\",fontsize=15)\n",
        "plt.title(\"Countplot of yr_renovated\",fontsize=16,color=\"white\")\n",
        "plt.show()\n"
      ],
      "execution_count": 31,
      "outputs": [
        {
          "output_type": "display_data",
          "data": {
            "image/png": "[encoded data removed]",
            "text/plain": [
              "<Figure size 432x288 with 1 Axes>"
            ]
          },
          "metadata": {
            "tags": []
          }
        }
      ]
    },
    {
      "cell_type": "code",
      "metadata": {
        "id": "dMl_2i8notHi",
        "colab_type": "code",
        "colab": {}
      },
      "source": [
        "#creating a copy\n",
        "data3 = data2"
      ],
      "execution_count": 0,
      "outputs": []
    },
    {
      "cell_type": "code",
      "metadata": {
        "id": "4Xlr1Yn1uueO",
        "colab_type": "code",
        "outputId": "c425dccb-82e7-479a-dc4b-602a8ec9c3aa",
        "colab": {
          "base_uri": "https://localhost:8080/",
          "height": 35
        }
      },
      "source": [
        "#Dropping the yr_renovated column\n",
        "data3.drop('yr_renovated', axis=1, inplace=True)\n",
        "data3.shape"
      ],
      "execution_count": 33,
      "outputs": [
        {
          "output_type": "execute_result",
          "data": {
            "text/plain": [
              "(21612, 18)"
            ]
          },
          "metadata": {
            "tags": []
          },
          "execution_count": 33
        }
      ]
    },
    {
      "cell_type": "markdown",
      "metadata": {
        "id": "QeeMgx3vnAzC",
        "colab_type": "text"
      },
      "source": [
        "95% Percent of the column has zeros. The column does not provide alot of information thus we drop it."
      ]
    },
    {
      "cell_type": "markdown",
      "metadata": {
        "id": "oF4i86Lgftu7",
        "colab_type": "text"
      },
      "source": [
        "##zipcode"
      ]
    },
    {
      "cell_type": "markdown",
      "metadata": {
        "id": "rsX5ASZuf1K9",
        "colab_type": "text"
      },
      "source": [
        "##Lat ,\tlong"
      ]
    },
    {
      "cell_type": "code",
      "metadata": {
        "id": "FmumS4u5ymbi",
        "colab_type": "code",
        "outputId": "9578d7c6-acd0-4a79-ea29-7c2dfae694f2",
        "colab": {
          "base_uri": "https://localhost:8080/",
          "height": 35
        }
      },
      "source": [
        "#Dropping the sqft_living15\tand sqft_lot15 column\n",
        "#creating a copy\n",
        "data4 = data3\n",
        "data4.drop(columns=['sqft_living15','sqft_lot15'], axis=1, inplace=True)\n",
        "data4.shape\n"
      ],
      "execution_count": 34,
      "outputs": [
        {
          "output_type": "execute_result",
          "data": {
            "text/plain": [
              "(21612, 16)"
            ]
          },
          "metadata": {
            "tags": []
          },
          "execution_count": 34
        }
      ]
    },
    {
      "cell_type": "markdown",
      "metadata": {
        "id": "Tgb8BHl10F_2",
        "colab_type": "text"
      },
      "source": [
        ""
      ]
    },
    {
      "cell_type": "markdown",
      "metadata": {
        "id": "vTbdjSrhVIiT",
        "colab_type": "text"
      },
      "source": [
        "# 7.Bivariate Analysis"
      ]
    },
    {
      "cell_type": "code",
      "metadata": {
        "id": "nUV5VszKydqq",
        "colab_type": "code",
        "outputId": "a4d2d560-6f21-4e7d-87be-97f15873cb64",
        "colab": {
          "base_uri": "https://localhost:8080/",
          "height": 0
        }
      },
      "source": [
        "data4"
      ],
      "execution_count": 35,
      "outputs": [
        {
          "output_type": "execute_result",
          "data": {
            "text/html": [
              "<div>\n",
              "<style scoped>\n",
              "    .dataframe tbody tr th:only-of-type {\n",
              "        vertical-align: middle;\n",
              "    }\n",
              "\n",
              "    .dataframe tbody tr th {\n",
              "        vertical-align: top;\n",
              "    }\n",
              "\n",
              "    .dataframe thead th {\n",
              "        text-align: right;\n",
              "    }\n",
              "</style>\n",
              "<table border=\"1\" class=\"dataframe\">\n",
              "  <thead>\n",
              "    <tr style=\"text-align: right;\">\n",
              "      <th></th>\n",
              "      <th>id</th>\n",
              "      <th>price</th>\n",
              "      <th>bedrooms</th>\n",
              "      <th>bathrooms</th>\n",
              "      <th>sqft_living</th>\n",
              "      <th>sqft_lot</th>\n",
              "      <th>floors</th>\n",
              "      <th>waterfront</th>\n",
              "      <th>condition</th>\n",
              "      <th>grade</th>\n",
              "      <th>sqft_above</th>\n",
              "      <th>sqft_basement</th>\n",
              "      <th>yr_built</th>\n",
              "      <th>zipcode</th>\n",
              "      <th>lat</th>\n",
              "      <th>long</th>\n",
              "    </tr>\n",
              "  </thead>\n",
              "  <tbody>\n",
              "    <tr>\n",
              "      <th>0</th>\n",
              "      <td>7129300520</td>\n",
              "      <td>221900.0</td>\n",
              "      <td>3</td>\n",
              "      <td>1.00</td>\n",
              "      <td>1180</td>\n",
              "      <td>5650</td>\n",
              "      <td>1.0</td>\n",
              "      <td>0</td>\n",
              "      <td>3</td>\n",
              "      <td>7</td>\n",
              "      <td>1180</td>\n",
              "      <td>0</td>\n",
              "      <td>1955</td>\n",
              "      <td>98178</td>\n",
              "      <td>47.5112</td>\n",
              "      <td>-122.257</td>\n",
              "    </tr>\n",
              "    <tr>\n",
              "      <th>1</th>\n",
              "      <td>6414100192</td>\n",
              "      <td>538000.0</td>\n",
              "      <td>3</td>\n",
              "      <td>2.25</td>\n",
              "      <td>2570</td>\n",
              "      <td>7242</td>\n",
              "      <td>2.0</td>\n",
              "      <td>0</td>\n",
              "      <td>3</td>\n",
              "      <td>7</td>\n",
              "      <td>2170</td>\n",
              "      <td>400</td>\n",
              "      <td>1951</td>\n",
              "      <td>98125</td>\n",
              "      <td>47.7210</td>\n",
              "      <td>-122.319</td>\n",
              "    </tr>\n",
              "    <tr>\n",
              "      <th>2</th>\n",
              "      <td>5631500400</td>\n",
              "      <td>180000.0</td>\n",
              "      <td>2</td>\n",
              "      <td>1.00</td>\n",
              "      <td>770</td>\n",
              "      <td>10000</td>\n",
              "      <td>1.0</td>\n",
              "      <td>0</td>\n",
              "      <td>3</td>\n",
              "      <td>6</td>\n",
              "      <td>770</td>\n",
              "      <td>0</td>\n",
              "      <td>1933</td>\n",
              "      <td>98028</td>\n",
              "      <td>47.7379</td>\n",
              "      <td>-122.233</td>\n",
              "    </tr>\n",
              "    <tr>\n",
              "      <th>3</th>\n",
              "      <td>2487200875</td>\n",
              "      <td>604000.0</td>\n",
              "      <td>4</td>\n",
              "      <td>3.00</td>\n",
              "      <td>1960</td>\n",
              "      <td>5000</td>\n",
              "      <td>1.0</td>\n",
              "      <td>0</td>\n",
              "      <td>5</td>\n",
              "      <td>7</td>\n",
              "      <td>1050</td>\n",
              "      <td>910</td>\n",
              "      <td>1965</td>\n",
              "      <td>98136</td>\n",
              "      <td>47.5208</td>\n",
              "      <td>-122.393</td>\n",
              "    </tr>\n",
              "    <tr>\n",
              "      <th>4</th>\n",
              "      <td>1954400510</td>\n",
              "      <td>510000.0</td>\n",
              "      <td>3</td>\n",
              "      <td>2.00</td>\n",
              "      <td>1680</td>\n",
              "      <td>8080</td>\n",
              "      <td>1.0</td>\n",
              "      <td>0</td>\n",
              "      <td>3</td>\n",
              "      <td>8</td>\n",
              "      <td>1680</td>\n",
              "      <td>0</td>\n",
              "      <td>1987</td>\n",
              "      <td>98074</td>\n",
              "      <td>47.6168</td>\n",
              "      <td>-122.045</td>\n",
              "    </tr>\n",
              "    <tr>\n",
              "      <th>...</th>\n",
              "      <td>...</td>\n",
              "      <td>...</td>\n",
              "      <td>...</td>\n",
              "      <td>...</td>\n",
              "      <td>...</td>\n",
              "      <td>...</td>\n",
              "      <td>...</td>\n",
              "      <td>...</td>\n",
              "      <td>...</td>\n",
              "      <td>...</td>\n",
              "      <td>...</td>\n",
              "      <td>...</td>\n",
              "      <td>...</td>\n",
              "      <td>...</td>\n",
              "      <td>...</td>\n",
              "      <td>...</td>\n",
              "    </tr>\n",
              "    <tr>\n",
              "      <th>21608</th>\n",
              "      <td>263000018</td>\n",
              "      <td>360000.0</td>\n",
              "      <td>3</td>\n",
              "      <td>2.50</td>\n",
              "      <td>1530</td>\n",
              "      <td>1131</td>\n",
              "      <td>3.0</td>\n",
              "      <td>0</td>\n",
              "      <td>3</td>\n",
              "      <td>8</td>\n",
              "      <td>1530</td>\n",
              "      <td>0</td>\n",
              "      <td>2009</td>\n",
              "      <td>98103</td>\n",
              "      <td>47.6993</td>\n",
              "      <td>-122.346</td>\n",
              "    </tr>\n",
              "    <tr>\n",
              "      <th>21609</th>\n",
              "      <td>6600060120</td>\n",
              "      <td>400000.0</td>\n",
              "      <td>4</td>\n",
              "      <td>2.50</td>\n",
              "      <td>2310</td>\n",
              "      <td>5813</td>\n",
              "      <td>2.0</td>\n",
              "      <td>0</td>\n",
              "      <td>3</td>\n",
              "      <td>8</td>\n",
              "      <td>2310</td>\n",
              "      <td>0</td>\n",
              "      <td>2014</td>\n",
              "      <td>98146</td>\n",
              "      <td>47.5107</td>\n",
              "      <td>-122.362</td>\n",
              "    </tr>\n",
              "    <tr>\n",
              "      <th>21610</th>\n",
              "      <td>1523300141</td>\n",
              "      <td>402101.0</td>\n",
              "      <td>2</td>\n",
              "      <td>0.75</td>\n",
              "      <td>1020</td>\n",
              "      <td>1350</td>\n",
              "      <td>2.0</td>\n",
              "      <td>0</td>\n",
              "      <td>3</td>\n",
              "      <td>7</td>\n",
              "      <td>1020</td>\n",
              "      <td>0</td>\n",
              "      <td>2009</td>\n",
              "      <td>98144</td>\n",
              "      <td>47.5944</td>\n",
              "      <td>-122.299</td>\n",
              "    </tr>\n",
              "    <tr>\n",
              "      <th>21611</th>\n",
              "      <td>291310100</td>\n",
              "      <td>400000.0</td>\n",
              "      <td>3</td>\n",
              "      <td>2.50</td>\n",
              "      <td>1600</td>\n",
              "      <td>2388</td>\n",
              "      <td>2.0</td>\n",
              "      <td>0</td>\n",
              "      <td>3</td>\n",
              "      <td>8</td>\n",
              "      <td>1600</td>\n",
              "      <td>0</td>\n",
              "      <td>2004</td>\n",
              "      <td>98027</td>\n",
              "      <td>47.5345</td>\n",
              "      <td>-122.069</td>\n",
              "    </tr>\n",
              "    <tr>\n",
              "      <th>21612</th>\n",
              "      <td>1523300157</td>\n",
              "      <td>325000.0</td>\n",
              "      <td>2</td>\n",
              "      <td>0.75</td>\n",
              "      <td>1020</td>\n",
              "      <td>1076</td>\n",
              "      <td>2.0</td>\n",
              "      <td>0</td>\n",
              "      <td>3</td>\n",
              "      <td>7</td>\n",
              "      <td>1020</td>\n",
              "      <td>0</td>\n",
              "      <td>2008</td>\n",
              "      <td>98144</td>\n",
              "      <td>47.5941</td>\n",
              "      <td>-122.299</td>\n",
              "    </tr>\n",
              "  </tbody>\n",
              "</table>\n",
              "<p>21612 rows × 16 columns</p>\n",
              "</div>"
            ],
            "text/plain": [
              "               id     price  bedrooms  ...  zipcode      lat     long\n",
              "0      7129300520  221900.0         3  ...    98178  47.5112 -122.257\n",
              "1      6414100192  538000.0         3  ...    98125  47.7210 -122.319\n",
              "2      5631500400  180000.0         2  ...    98028  47.7379 -122.233\n",
              "3      2487200875  604000.0         4  ...    98136  47.5208 -122.393\n",
              "4      1954400510  510000.0         3  ...    98074  47.6168 -122.045\n",
              "...           ...       ...       ...  ...      ...      ...      ...\n",
              "21608   263000018  360000.0         3  ...    98103  47.6993 -122.346\n",
              "21609  6600060120  400000.0         4  ...    98146  47.5107 -122.362\n",
              "21610  1523300141  402101.0         2  ...    98144  47.5944 -122.299\n",
              "21611   291310100  400000.0         3  ...    98027  47.5345 -122.069\n",
              "21612  1523300157  325000.0         2  ...    98144  47.5941 -122.299\n",
              "\n",
              "[21612 rows x 16 columns]"
            ]
          },
          "metadata": {
            "tags": []
          },
          "execution_count": 35
        }
      ]
    },
    {
      "cell_type": "markdown",
      "metadata": {
        "id": "E-lll10KgoGw",
        "colab_type": "text"
      },
      "source": [
        "## Checking for Multi-collinearity"
      ]
    },
    {
      "cell_type": "code",
      "metadata": {
        "id": "X2hz5CvSg2Rd",
        "colab_type": "code",
        "outputId": "a923e4f4-1eb9-4e14-af6c-0935c3f31253",
        "colab": {
          "base_uri": "https://localhost:8080/",
          "height": 0
        }
      },
      "source": [
        "# Let's display the correlations between the variables\n",
        "corr = data4[['price','bedrooms','bathrooms','sqft_living','sqft_lot','floors',\t'waterfront',\t'condition','grade','sqft_above','sqft_basement','yr_built',]].corr()\n",
        "corr"
      ],
      "execution_count": 36,
      "outputs": [
        {
          "output_type": "execute_result",
          "data": {
            "text/html": [
              "<div>\n",
              "<style scoped>\n",
              "    .dataframe tbody tr th:only-of-type {\n",
              "        vertical-align: middle;\n",
              "    }\n",
              "\n",
              "    .dataframe tbody tr th {\n",
              "        vertical-align: top;\n",
              "    }\n",
              "\n",
              "    .dataframe thead th {\n",
              "        text-align: right;\n",
              "    }\n",
              "</style>\n",
              "<table border=\"1\" class=\"dataframe\">\n",
              "  <thead>\n",
              "    <tr style=\"text-align: right;\">\n",
              "      <th></th>\n",
              "      <th>price</th>\n",
              "      <th>bedrooms</th>\n",
              "      <th>bathrooms</th>\n",
              "      <th>sqft_living</th>\n",
              "      <th>sqft_lot</th>\n",
              "      <th>floors</th>\n",
              "      <th>waterfront</th>\n",
              "      <th>condition</th>\n",
              "      <th>grade</th>\n",
              "      <th>sqft_above</th>\n",
              "      <th>sqft_basement</th>\n",
              "      <th>yr_built</th>\n",
              "    </tr>\n",
              "  </thead>\n",
              "  <tbody>\n",
              "    <tr>\n",
              "      <th>price</th>\n",
              "      <td>1.000000</td>\n",
              "      <td>0.315434</td>\n",
              "      <td>0.525144</td>\n",
              "      <td>0.702055</td>\n",
              "      <td>0.089658</td>\n",
              "      <td>0.256803</td>\n",
              "      <td>0.266332</td>\n",
              "      <td>0.036366</td>\n",
              "      <td>0.667476</td>\n",
              "      <td>0.605589</td>\n",
              "      <td>0.323833</td>\n",
              "      <td>0.053993</td>\n",
              "    </tr>\n",
              "    <tr>\n",
              "      <th>bedrooms</th>\n",
              "      <td>0.315434</td>\n",
              "      <td>1.000000</td>\n",
              "      <td>0.529159</td>\n",
              "      <td>0.591467</td>\n",
              "      <td>0.032807</td>\n",
              "      <td>0.181085</td>\n",
              "      <td>-0.006611</td>\n",
              "      <td>0.025478</td>\n",
              "      <td>0.366502</td>\n",
              "      <td>0.490600</td>\n",
              "      <td>0.309490</td>\n",
              "      <td>0.159167</td>\n",
              "    </tr>\n",
              "    <tr>\n",
              "      <th>bathrooms</th>\n",
              "      <td>0.525144</td>\n",
              "      <td>0.529159</td>\n",
              "      <td>1.000000</td>\n",
              "      <td>0.754663</td>\n",
              "      <td>0.087735</td>\n",
              "      <td>0.500645</td>\n",
              "      <td>0.063742</td>\n",
              "      <td>-0.124946</td>\n",
              "      <td>0.664979</td>\n",
              "      <td>0.685339</td>\n",
              "      <td>0.283789</td>\n",
              "      <td>0.506012</td>\n",
              "    </tr>\n",
              "    <tr>\n",
              "      <th>sqft_living</th>\n",
              "      <td>0.702055</td>\n",
              "      <td>0.591467</td>\n",
              "      <td>0.754663</td>\n",
              "      <td>1.000000</td>\n",
              "      <td>0.172822</td>\n",
              "      <td>0.353937</td>\n",
              "      <td>0.103816</td>\n",
              "      <td>-0.058704</td>\n",
              "      <td>0.762701</td>\n",
              "      <td>0.876597</td>\n",
              "      <td>0.435065</td>\n",
              "      <td>0.318037</td>\n",
              "    </tr>\n",
              "    <tr>\n",
              "      <th>sqft_lot</th>\n",
              "      <td>0.089658</td>\n",
              "      <td>0.032807</td>\n",
              "      <td>0.087735</td>\n",
              "      <td>0.172822</td>\n",
              "      <td>1.000000</td>\n",
              "      <td>-0.005210</td>\n",
              "      <td>0.021603</td>\n",
              "      <td>-0.008935</td>\n",
              "      <td>0.113616</td>\n",
              "      <td>0.183507</td>\n",
              "      <td>0.015293</td>\n",
              "      <td>0.053073</td>\n",
              "    </tr>\n",
              "    <tr>\n",
              "      <th>floors</th>\n",
              "      <td>0.256803</td>\n",
              "      <td>0.181085</td>\n",
              "      <td>0.500645</td>\n",
              "      <td>0.353937</td>\n",
              "      <td>-0.005210</td>\n",
              "      <td>1.000000</td>\n",
              "      <td>0.023695</td>\n",
              "      <td>-0.263706</td>\n",
              "      <td>0.458171</td>\n",
              "      <td>0.523866</td>\n",
              "      <td>-0.245684</td>\n",
              "      <td>0.489302</td>\n",
              "    </tr>\n",
              "    <tr>\n",
              "      <th>waterfront</th>\n",
              "      <td>0.266332</td>\n",
              "      <td>-0.006611</td>\n",
              "      <td>0.063742</td>\n",
              "      <td>0.103816</td>\n",
              "      <td>0.021603</td>\n",
              "      <td>0.023695</td>\n",
              "      <td>1.000000</td>\n",
              "      <td>0.016665</td>\n",
              "      <td>0.082773</td>\n",
              "      <td>0.072072</td>\n",
              "      <td>0.080591</td>\n",
              "      <td>-0.026165</td>\n",
              "    </tr>\n",
              "    <tr>\n",
              "      <th>condition</th>\n",
              "      <td>0.036366</td>\n",
              "      <td>0.025478</td>\n",
              "      <td>-0.124946</td>\n",
              "      <td>-0.058704</td>\n",
              "      <td>-0.008935</td>\n",
              "      <td>-0.263706</td>\n",
              "      <td>0.016665</td>\n",
              "      <td>1.000000</td>\n",
              "      <td>-0.144632</td>\n",
              "      <td>-0.158136</td>\n",
              "      <td>0.174057</td>\n",
              "      <td>-0.361380</td>\n",
              "    </tr>\n",
              "    <tr>\n",
              "      <th>grade</th>\n",
              "      <td>0.667476</td>\n",
              "      <td>0.366502</td>\n",
              "      <td>0.664979</td>\n",
              "      <td>0.762701</td>\n",
              "      <td>0.113616</td>\n",
              "      <td>0.458171</td>\n",
              "      <td>0.082773</td>\n",
              "      <td>-0.144632</td>\n",
              "      <td>1.000000</td>\n",
              "      <td>0.755919</td>\n",
              "      <td>0.168412</td>\n",
              "      <td>0.446952</td>\n",
              "    </tr>\n",
              "    <tr>\n",
              "      <th>sqft_above</th>\n",
              "      <td>0.605589</td>\n",
              "      <td>0.490600</td>\n",
              "      <td>0.685339</td>\n",
              "      <td>0.876597</td>\n",
              "      <td>0.183507</td>\n",
              "      <td>0.523866</td>\n",
              "      <td>0.072072</td>\n",
              "      <td>-0.158136</td>\n",
              "      <td>0.755919</td>\n",
              "      <td>1.000000</td>\n",
              "      <td>-0.051918</td>\n",
              "      <td>0.423879</td>\n",
              "    </tr>\n",
              "    <tr>\n",
              "      <th>sqft_basement</th>\n",
              "      <td>0.323833</td>\n",
              "      <td>0.309490</td>\n",
              "      <td>0.283789</td>\n",
              "      <td>0.435065</td>\n",
              "      <td>0.015293</td>\n",
              "      <td>-0.245684</td>\n",
              "      <td>0.080591</td>\n",
              "      <td>0.174057</td>\n",
              "      <td>0.168412</td>\n",
              "      <td>-0.051918</td>\n",
              "      <td>1.000000</td>\n",
              "      <td>-0.133103</td>\n",
              "    </tr>\n",
              "    <tr>\n",
              "      <th>yr_built</th>\n",
              "      <td>0.053993</td>\n",
              "      <td>0.159167</td>\n",
              "      <td>0.506012</td>\n",
              "      <td>0.318037</td>\n",
              "      <td>0.053073</td>\n",
              "      <td>0.489302</td>\n",
              "      <td>-0.026165</td>\n",
              "      <td>-0.361380</td>\n",
              "      <td>0.446952</td>\n",
              "      <td>0.423879</td>\n",
              "      <td>-0.133103</td>\n",
              "      <td>1.000000</td>\n",
              "    </tr>\n",
              "  </tbody>\n",
              "</table>\n",
              "</div>"
            ],
            "text/plain": [
              "                  price  bedrooms  ...  sqft_basement  yr_built\n",
              "price          1.000000  0.315434  ...       0.323833  0.053993\n",
              "bedrooms       0.315434  1.000000  ...       0.309490  0.159167\n",
              "bathrooms      0.525144  0.529159  ...       0.283789  0.506012\n",
              "sqft_living    0.702055  0.591467  ...       0.435065  0.318037\n",
              "sqft_lot       0.089658  0.032807  ...       0.015293  0.053073\n",
              "floors         0.256803  0.181085  ...      -0.245684  0.489302\n",
              "waterfront     0.266332 -0.006611  ...       0.080591 -0.026165\n",
              "condition      0.036366  0.025478  ...       0.174057 -0.361380\n",
              "grade          0.667476  0.366502  ...       0.168412  0.446952\n",
              "sqft_above     0.605589  0.490600  ...      -0.051918  0.423879\n",
              "sqft_basement  0.323833  0.309490  ...       1.000000 -0.133103\n",
              "yr_built       0.053993  0.159167  ...      -0.133103  1.000000\n",
              "\n",
              "[12 rows x 12 columns]"
            ]
          },
          "metadata": {
            "tags": []
          },
          "execution_count": 36
        }
      ]
    },
    {
      "cell_type": "code",
      "metadata": {
        "id": "SDIJl0ariwws",
        "colab_type": "code",
        "outputId": "68357f89-3106-43e4-ec88-be1c3c6677ff",
        "colab": {
          "base_uri": "https://localhost:8080/",
          "height": 0
        }
      },
      "source": [
        "#visualizing correlation on a heatmap\n",
        "plt.figure(figsize=(15,10))\n",
        "sb.heatmap(corr, annot = True)\n",
        "plt.show()"
      ],
      "execution_count": 37,
      "outputs": [
        {
          "output_type": "display_data",
          "data": {
            "image/png": "[encoded data removed]",
            "text/plain": [
              "<Figure size 1080x720 with 2 Axes>"
            ]
          },
          "metadata": {
            "tags": []
          }
        }
      ]
    },
    {
      "cell_type": "markdown",
      "metadata": {
        "id": "seXw2jQUlp1J",
        "colab_type": "text"
      },
      "source": [
        "##### The heat map above shows VIF values that are very close to 0 meaning that there is very little multi-collinearity."
      ]
    },
    {
      "cell_type": "markdown",
      "metadata": {
        "id": "TcjkU2i8XO2a",
        "colab_type": "text"
      },
      "source": [
        "# Feature Engineering\n",
        "The columns sqft_above and sqft_living have a very high correlation of 0.88 thus we join the two to form a new column sqft_abv_living"
      ]
    },
    {
      "cell_type": "code",
      "metadata": {
        "id": "XLWjAr1LKPwp",
        "colab_type": "code",
        "outputId": "75c6e494-9991-47ea-8361-e7fe7e7fda86",
        "colab": {
          "base_uri": "https://localhost:8080/",
          "height": 435
        }
      },
      "source": [
        "#creating a copy\n",
        "data5 = data4\n",
        "\n",
        "data5['sqft_abv_living'] = data5['sqft_above'] + data5['sqft_living']\n",
        "data5"
      ],
      "execution_count": 38,
      "outputs": [
        {
          "output_type": "execute_result",
          "data": {
            "text/html": [
              "<div>\n",
              "<style scoped>\n",
              "    .dataframe tbody tr th:only-of-type {\n",
              "        vertical-align: middle;\n",
              "    }\n",
              "\n",
              "    .dataframe tbody tr th {\n",
              "        vertical-align: top;\n",
              "    }\n",
              "\n",
              "    .dataframe thead th {\n",
              "        text-align: right;\n",
              "    }\n",
              "</style>\n",
              "<table border=\"1\" class=\"dataframe\">\n",
              "  <thead>\n",
              "    <tr style=\"text-align: right;\">\n",
              "      <th></th>\n",
              "      <th>id</th>\n",
              "      <th>price</th>\n",
              "      <th>bedrooms</th>\n",
              "      <th>bathrooms</th>\n",
              "      <th>sqft_living</th>\n",
              "      <th>sqft_lot</th>\n",
              "      <th>floors</th>\n",
              "      <th>waterfront</th>\n",
              "      <th>condition</th>\n",
              "      <th>grade</th>\n",
              "      <th>sqft_above</th>\n",
              "      <th>sqft_basement</th>\n",
              "      <th>yr_built</th>\n",
              "      <th>zipcode</th>\n",
              "      <th>lat</th>\n",
              "      <th>long</th>\n",
              "      <th>sqft_abv_living</th>\n",
              "    </tr>\n",
              "  </thead>\n",
              "  <tbody>\n",
              "    <tr>\n",
              "      <th>0</th>\n",
              "      <td>7129300520</td>\n",
              "      <td>221900.0</td>\n",
              "      <td>3</td>\n",
              "      <td>1.00</td>\n",
              "      <td>1180</td>\n",
              "      <td>5650</td>\n",
              "      <td>1.0</td>\n",
              "      <td>0</td>\n",
              "      <td>3</td>\n",
              "      <td>7</td>\n",
              "      <td>1180</td>\n",
              "      <td>0</td>\n",
              "      <td>1955</td>\n",
              "      <td>98178</td>\n",
              "      <td>47.5112</td>\n",
              "      <td>-122.257</td>\n",
              "      <td>2360</td>\n",
              "    </tr>\n",
              "    <tr>\n",
              "      <th>1</th>\n",
              "      <td>6414100192</td>\n",
              "      <td>538000.0</td>\n",
              "      <td>3</td>\n",
              "      <td>2.25</td>\n",
              "      <td>2570</td>\n",
              "      <td>7242</td>\n",
              "      <td>2.0</td>\n",
              "      <td>0</td>\n",
              "      <td>3</td>\n",
              "      <td>7</td>\n",
              "      <td>2170</td>\n",
              "      <td>400</td>\n",
              "      <td>1951</td>\n",
              "      <td>98125</td>\n",
              "      <td>47.7210</td>\n",
              "      <td>-122.319</td>\n",
              "      <td>4740</td>\n",
              "    </tr>\n",
              "    <tr>\n",
              "      <th>2</th>\n",
              "      <td>5631500400</td>\n",
              "      <td>180000.0</td>\n",
              "      <td>2</td>\n",
              "      <td>1.00</td>\n",
              "      <td>770</td>\n",
              "      <td>10000</td>\n",
              "      <td>1.0</td>\n",
              "      <td>0</td>\n",
              "      <td>3</td>\n",
              "      <td>6</td>\n",
              "      <td>770</td>\n",
              "      <td>0</td>\n",
              "      <td>1933</td>\n",
              "      <td>98028</td>\n",
              "      <td>47.7379</td>\n",
              "      <td>-122.233</td>\n",
              "      <td>1540</td>\n",
              "    </tr>\n",
              "    <tr>\n",
              "      <th>3</th>\n",
              "      <td>2487200875</td>\n",
              "      <td>604000.0</td>\n",
              "      <td>4</td>\n",
              "      <td>3.00</td>\n",
              "      <td>1960</td>\n",
              "      <td>5000</td>\n",
              "      <td>1.0</td>\n",
              "      <td>0</td>\n",
              "      <td>5</td>\n",
              "      <td>7</td>\n",
              "      <td>1050</td>\n",
              "      <td>910</td>\n",
              "      <td>1965</td>\n",
              "      <td>98136</td>\n",
              "      <td>47.5208</td>\n",
              "      <td>-122.393</td>\n",
              "      <td>3010</td>\n",
              "    </tr>\n",
              "    <tr>\n",
              "      <th>4</th>\n",
              "      <td>1954400510</td>\n",
              "      <td>510000.0</td>\n",
              "      <td>3</td>\n",
              "      <td>2.00</td>\n",
              "      <td>1680</td>\n",
              "      <td>8080</td>\n",
              "      <td>1.0</td>\n",
              "      <td>0</td>\n",
              "      <td>3</td>\n",
              "      <td>8</td>\n",
              "      <td>1680</td>\n",
              "      <td>0</td>\n",
              "      <td>1987</td>\n",
              "      <td>98074</td>\n",
              "      <td>47.6168</td>\n",
              "      <td>-122.045</td>\n",
              "      <td>3360</td>\n",
              "    </tr>\n",
              "    <tr>\n",
              "      <th>...</th>\n",
              "      <td>...</td>\n",
              "      <td>...</td>\n",
              "      <td>...</td>\n",
              "      <td>...</td>\n",
              "      <td>...</td>\n",
              "      <td>...</td>\n",
              "      <td>...</td>\n",
              "      <td>...</td>\n",
              "      <td>...</td>\n",
              "      <td>...</td>\n",
              "      <td>...</td>\n",
              "      <td>...</td>\n",
              "      <td>...</td>\n",
              "      <td>...</td>\n",
              "      <td>...</td>\n",
              "      <td>...</td>\n",
              "      <td>...</td>\n",
              "    </tr>\n",
              "    <tr>\n",
              "      <th>21608</th>\n",
              "      <td>263000018</td>\n",
              "      <td>360000.0</td>\n",
              "      <td>3</td>\n",
              "      <td>2.50</td>\n",
              "      <td>1530</td>\n",
              "      <td>1131</td>\n",
              "      <td>3.0</td>\n",
              "      <td>0</td>\n",
              "      <td>3</td>\n",
              "      <td>8</td>\n",
              "      <td>1530</td>\n",
              "      <td>0</td>\n",
              "      <td>2009</td>\n",
              "      <td>98103</td>\n",
              "      <td>47.6993</td>\n",
              "      <td>-122.346</td>\n",
              "      <td>3060</td>\n",
              "    </tr>\n",
              "    <tr>\n",
              "      <th>21609</th>\n",
              "      <td>6600060120</td>\n",
              "      <td>400000.0</td>\n",
              "      <td>4</td>\n",
              "      <td>2.50</td>\n",
              "      <td>2310</td>\n",
              "      <td>5813</td>\n",
              "      <td>2.0</td>\n",
              "      <td>0</td>\n",
              "      <td>3</td>\n",
              "      <td>8</td>\n",
              "      <td>2310</td>\n",
              "      <td>0</td>\n",
              "      <td>2014</td>\n",
              "      <td>98146</td>\n",
              "      <td>47.5107</td>\n",
              "      <td>-122.362</td>\n",
              "      <td>4620</td>\n",
              "    </tr>\n",
              "    <tr>\n",
              "      <th>21610</th>\n",
              "      <td>1523300141</td>\n",
              "      <td>402101.0</td>\n",
              "      <td>2</td>\n",
              "      <td>0.75</td>\n",
              "      <td>1020</td>\n",
              "      <td>1350</td>\n",
              "      <td>2.0</td>\n",
              "      <td>0</td>\n",
              "      <td>3</td>\n",
              "      <td>7</td>\n",
              "      <td>1020</td>\n",
              "      <td>0</td>\n",
              "      <td>2009</td>\n",
              "      <td>98144</td>\n",
              "      <td>47.5944</td>\n",
              "      <td>-122.299</td>\n",
              "      <td>2040</td>\n",
              "    </tr>\n",
              "    <tr>\n",
              "      <th>21611</th>\n",
              "      <td>291310100</td>\n",
              "      <td>400000.0</td>\n",
              "      <td>3</td>\n",
              "      <td>2.50</td>\n",
              "      <td>1600</td>\n",
              "      <td>2388</td>\n",
              "      <td>2.0</td>\n",
              "      <td>0</td>\n",
              "      <td>3</td>\n",
              "      <td>8</td>\n",
              "      <td>1600</td>\n",
              "      <td>0</td>\n",
              "      <td>2004</td>\n",
              "      <td>98027</td>\n",
              "      <td>47.5345</td>\n",
              "      <td>-122.069</td>\n",
              "      <td>3200</td>\n",
              "    </tr>\n",
              "    <tr>\n",
              "      <th>21612</th>\n",
              "      <td>1523300157</td>\n",
              "      <td>325000.0</td>\n",
              "      <td>2</td>\n",
              "      <td>0.75</td>\n",
              "      <td>1020</td>\n",
              "      <td>1076</td>\n",
              "      <td>2.0</td>\n",
              "      <td>0</td>\n",
              "      <td>3</td>\n",
              "      <td>7</td>\n",
              "      <td>1020</td>\n",
              "      <td>0</td>\n",
              "      <td>2008</td>\n",
              "      <td>98144</td>\n",
              "      <td>47.5941</td>\n",
              "      <td>-122.299</td>\n",
              "      <td>2040</td>\n",
              "    </tr>\n",
              "  </tbody>\n",
              "</table>\n",
              "<p>21612 rows × 17 columns</p>\n",
              "</div>"
            ],
            "text/plain": [
              "               id     price  bedrooms  ...      lat     long  sqft_abv_living\n",
              "0      7129300520  221900.0         3  ...  47.5112 -122.257             2360\n",
              "1      6414100192  538000.0         3  ...  47.7210 -122.319             4740\n",
              "2      5631500400  180000.0         2  ...  47.7379 -122.233             1540\n",
              "3      2487200875  604000.0         4  ...  47.5208 -122.393             3010\n",
              "4      1954400510  510000.0         3  ...  47.6168 -122.045             3360\n",
              "...           ...       ...       ...  ...      ...      ...              ...\n",
              "21608   263000018  360000.0         3  ...  47.6993 -122.346             3060\n",
              "21609  6600060120  400000.0         4  ...  47.5107 -122.362             4620\n",
              "21610  1523300141  402101.0         2  ...  47.5944 -122.299             2040\n",
              "21611   291310100  400000.0         3  ...  47.5345 -122.069             3200\n",
              "21612  1523300157  325000.0         2  ...  47.5941 -122.299             2040\n",
              "\n",
              "[21612 rows x 17 columns]"
            ]
          },
          "metadata": {
            "tags": []
          },
          "execution_count": 38
        }
      ]
    },
    {
      "cell_type": "code",
      "metadata": {
        "id": "0StIeVd2YdmT",
        "colab_type": "code",
        "outputId": "9d544635-afee-4c1f-fe66-a57b7f5ae9d1",
        "colab": {
          "base_uri": "https://localhost:8080/",
          "height": 312
        }
      },
      "source": [
        "#creating a copy\n",
        "data6 = data5.drop(columns= ['id','sqft_above','sqft_living','long','lat'])\n",
        "data6.info()"
      ],
      "execution_count": 39,
      "outputs": [
        {
          "output_type": "stream",
          "text": [
            "<class 'pandas.core.frame.DataFrame'>\n",
            "Int64Index: 21612 entries, 0 to 21612\n",
            "Data columns (total 12 columns):\n",
            "price              21612 non-null float64\n",
            "bedrooms           21612 non-null int64\n",
            "bathrooms          21612 non-null float64\n",
            "sqft_lot           21612 non-null int64\n",
            "floors             21612 non-null float64\n",
            "waterfront         21612 non-null int64\n",
            "condition          21612 non-null int64\n",
            "grade              21612 non-null int64\n",
            "sqft_basement      21612 non-null int64\n",
            "yr_built           21612 non-null int64\n",
            "zipcode            21612 non-null int64\n",
            "sqft_abv_living    21612 non-null int64\n",
            "dtypes: float64(3), int64(9)\n",
            "memory usage: 2.8 MB\n"
          ],
          "name": "stdout"
        }
      ]
    },
    {
      "cell_type": "code",
      "metadata": {
        "id": "rqPS4vKUWP17",
        "colab_type": "code",
        "outputId": "2cb07ac4-7aa3-41f5-d15b-bfc24551223c",
        "colab": {
          "base_uri": "https://localhost:8080/",
          "height": 225
        }
      },
      "source": [
        "#obtaining the column names\n",
        "for col in data6.columns: \n",
        "    print(col) "
      ],
      "execution_count": 40,
      "outputs": [
        {
          "output_type": "stream",
          "text": [
            "price\n",
            "bedrooms\n",
            "bathrooms\n",
            "sqft_lot\n",
            "floors\n",
            "waterfront\n",
            "condition\n",
            "grade\n",
            "sqft_basement\n",
            "yr_built\n",
            "zipcode\n",
            "sqft_abv_living\n"
          ],
          "name": "stdout"
        }
      ]
    },
    {
      "cell_type": "code",
      "metadata": {
        "id": "ki-IDkZaZl5g",
        "colab_type": "code",
        "outputId": "7e5867b2-d426-4523-a9ef-2970e11b1e08",
        "colab": {
          "base_uri": "https://localhost:8080/",
          "height": 468
        }
      },
      "source": [
        "X = data6.drop(columns= ['price'])\n",
        "y = data6['price']\n",
        "\n",
        "data7 = pd.get_dummies(data6, columns=['waterfront'])\n",
        "print(X)\n",
        "print(y)"
      ],
      "execution_count": 41,
      "outputs": [
        {
          "output_type": "stream",
          "text": [
            "       bedrooms  bathrooms  sqft_lot  ...  yr_built  zipcode  sqft_abv_living\n",
            "0             3       1.00      5650  ...      1955    98178             2360\n",
            "1             3       2.25      7242  ...      1951    98125             4740\n",
            "2             2       1.00     10000  ...      1933    98028             1540\n",
            "3             4       3.00      5000  ...      1965    98136             3010\n",
            "4             3       2.00      8080  ...      1987    98074             3360\n",
            "...         ...        ...       ...  ...       ...      ...              ...\n",
            "21608         3       2.50      1131  ...      2009    98103             3060\n",
            "21609         4       2.50      5813  ...      2014    98146             4620\n",
            "21610         2       0.75      1350  ...      2009    98144             2040\n",
            "21611         3       2.50      2388  ...      2004    98027             3200\n",
            "21612         2       0.75      1076  ...      2008    98144             2040\n",
            "\n",
            "[21612 rows x 11 columns]\n",
            "0        221900.0\n",
            "1        538000.0\n",
            "2        180000.0\n",
            "3        604000.0\n",
            "4        510000.0\n",
            "           ...   \n",
            "21608    360000.0\n",
            "21609    400000.0\n",
            "21610    402101.0\n",
            "21611    400000.0\n",
            "21612    325000.0\n",
            "Name: price, Length: 21612, dtype: float64\n"
          ],
          "name": "stdout"
        }
      ]
    },
    {
      "cell_type": "markdown",
      "metadata": {
        "id": "fZQX3AGfMsB8",
        "colab_type": "text"
      },
      "source": [
        "#Multi-Variate Analysis"
      ]
    },
    {
      "cell_type": "code",
      "metadata": {
        "id": "hkxGntegQdIR",
        "colab_type": "code",
        "outputId": "35cf2b1a-f523-461a-99f2-0a0a7c90bd32",
        "colab": {
          "base_uri": "https://localhost:8080/",
          "height": 386
        }
      },
      "source": [
        "\n",
        "from sklearn.decomposition import PCA\n",
        "\n",
        "np.random.seed(0)\n",
        "\n",
        "train_features = X\n",
        "\n",
        "model = PCA(n_components=11).fit(train_features)\n",
        "\n",
        "# number of components\n",
        "n_pcs= model.components_.shape[0]\n",
        "# get the index of the most important feature on EACH component\n",
        "# LIST COMPREHENSION HERE\n",
        "most_important = [np.abs(model.components_[i]).argmax() for i in range(n_pcs)]\n",
        "initial_feature_names = ['bedrooms','bathrooms','sqft_lot','floors','waterfront','condition','grade','sqft_basement','yr_built','zipcode','sqft_abv_living']\n",
        "# get the names\n",
        "most_important_names = [initial_feature_names[most_important[i]] for i in range(n_pcs)]\n",
        "# LIST COMPREHENSION HERE AGAIN\n",
        "dic = {'PC{}'.format(i): most_important_names[i] for i in range(n_pcs)}\n",
        "# build the dataframe\n",
        "df = pd.DataFrame(dic.items())\n",
        "df"
      ],
      "execution_count": 42,
      "outputs": [
        {
          "output_type": "execute_result",
          "data": {
            "text/html": [
              "<div>\n",
              "<style scoped>\n",
              "    .dataframe tbody tr th:only-of-type {\n",
              "        vertical-align: middle;\n",
              "    }\n",
              "\n",
              "    .dataframe tbody tr th {\n",
              "        vertical-align: top;\n",
              "    }\n",
              "\n",
              "    .dataframe thead th {\n",
              "        text-align: right;\n",
              "    }\n",
              "</style>\n",
              "<table border=\"1\" class=\"dataframe\">\n",
              "  <thead>\n",
              "    <tr style=\"text-align: right;\">\n",
              "      <th></th>\n",
              "      <th>0</th>\n",
              "      <th>1</th>\n",
              "    </tr>\n",
              "  </thead>\n",
              "  <tbody>\n",
              "    <tr>\n",
              "      <th>0</th>\n",
              "      <td>PC0</td>\n",
              "      <td>sqft_lot</td>\n",
              "    </tr>\n",
              "    <tr>\n",
              "      <th>1</th>\n",
              "      <td>PC1</td>\n",
              "      <td>sqft_abv_living</td>\n",
              "    </tr>\n",
              "    <tr>\n",
              "      <th>2</th>\n",
              "      <td>PC2</td>\n",
              "      <td>sqft_basement</td>\n",
              "    </tr>\n",
              "    <tr>\n",
              "      <th>3</th>\n",
              "      <td>PC3</td>\n",
              "      <td>zipcode</td>\n",
              "    </tr>\n",
              "    <tr>\n",
              "      <th>4</th>\n",
              "      <td>PC4</td>\n",
              "      <td>yr_built</td>\n",
              "    </tr>\n",
              "    <tr>\n",
              "      <th>5</th>\n",
              "      <td>PC5</td>\n",
              "      <td>bedrooms</td>\n",
              "    </tr>\n",
              "    <tr>\n",
              "      <th>6</th>\n",
              "      <td>PC6</td>\n",
              "      <td>grade</td>\n",
              "    </tr>\n",
              "    <tr>\n",
              "      <th>7</th>\n",
              "      <td>PC7</td>\n",
              "      <td>condition</td>\n",
              "    </tr>\n",
              "    <tr>\n",
              "      <th>8</th>\n",
              "      <td>PC8</td>\n",
              "      <td>bathrooms</td>\n",
              "    </tr>\n",
              "    <tr>\n",
              "      <th>9</th>\n",
              "      <td>PC9</td>\n",
              "      <td>floors</td>\n",
              "    </tr>\n",
              "    <tr>\n",
              "      <th>10</th>\n",
              "      <td>PC10</td>\n",
              "      <td>waterfront</td>\n",
              "    </tr>\n",
              "  </tbody>\n",
              "</table>\n",
              "</div>"
            ],
            "text/plain": [
              "       0                1\n",
              "0    PC0         sqft_lot\n",
              "1    PC1  sqft_abv_living\n",
              "2    PC2    sqft_basement\n",
              "3    PC3          zipcode\n",
              "4    PC4         yr_built\n",
              "5    PC5         bedrooms\n",
              "6    PC6            grade\n",
              "7    PC7        condition\n",
              "8    PC8        bathrooms\n",
              "9    PC9           floors\n",
              "10  PC10       waterfront"
            ]
          },
          "metadata": {
            "tags": []
          },
          "execution_count": 42
        }
      ]
    },
    {
      "cell_type": "markdown",
      "metadata": {
        "id": "lo07-uGWbZoL",
        "colab_type": "text"
      },
      "source": [
        "#####The dataframe above gives an ordered list of how the principal components explain the variance starting from the highest explained variance to the lowest. PC0 explains the most variance while PC10 explains the least Variance."
      ]
    },
    {
      "cell_type": "markdown",
      "metadata": {
        "id": "e52EgySvmuM9",
        "colab_type": "text"
      },
      "source": [
        "# Regression\n"
      ]
    },
    {
      "cell_type": "markdown",
      "metadata": {
        "id": "vOuLo5z-m5O4",
        "colab_type": "text"
      },
      "source": [
        "#1st Approach: Multiple Linear Regression"
      ]
    },
    {
      "cell_type": "code",
      "metadata": {
        "id": "IHQOLs1Nh2bx",
        "colab_type": "code",
        "outputId": "a8873c57-c0fe-4aad-9d80-67961702b852",
        "colab": {
          "base_uri": "https://localhost:8080/",
          "height": 121
        }
      },
      "source": [
        "from sklearn import linear_model\n",
        "from sklearn import ensemble\n",
        "from sklearn.metrics import mean_squared_error\n",
        "# Fit Linear Regression model to the dataset( We are doing this for the\n",
        "#sole purpose of creating a baseline model to compare the linear regression\n",
        "# model to the polynomial regression model)\n",
        "\n",
        "regressor = linear_model.LinearRegression(fit_intercept = True, normalize = True)\n",
        "regressor.fit(X, y)\n",
        "# This is our prediction for admission based on our model\n",
        "print('Intercept: \\n', regressor.intercept_)\n",
        "#The coefficients represent the contribution of the predictor variables in creating the model\n",
        "print('Coefficients: \\n', regressor.coef_)"
      ],
      "execution_count": 43,
      "outputs": [
        {
          "output_type": "stream",
          "text": [
            "Intercept: \n",
            " 5746931.780670353\n",
            "Coefficients: \n",
            " [-4.61760698e+04  4.92374106e+04 -2.29686828e-01  2.56947318e+04\n",
            "  7.16338573e+05  1.80296459e+04  1.29435746e+05  1.03600926e+02\n",
            " -3.79249113e+03  8.73243263e+00  8.79441580e+01]\n"
          ],
          "name": "stdout"
        }
      ]
    },
    {
      "cell_type": "code",
      "metadata": {
        "id": "tkHqHZ8L5Mu8",
        "colab_type": "code",
        "colab": {}
      },
      "source": [
        "# Linear Model for the  train and test\n",
        "data8 = data7\n",
        "# b represents the dependent variable while A represents the independent variables\n",
        "b = np.log(data8.price)\n",
        "A = data8.drop(['price'], axis=1)"
      ],
      "execution_count": 0,
      "outputs": []
    },
    {
      "cell_type": "code",
      "metadata": {
        "id": "Cq1wUZfK5MsD",
        "colab_type": "code",
        "colab": {}
      },
      "source": [
        "#splitting the dataset into train and test.\n",
        "#the test data is 33% while the train data is 67%\n",
        "from sklearn.model_selection import train_test_split\n",
        "X_train, X_test, y_train, y_test = train_test_split(\n",
        "                                    A, b, random_state=42, test_size=.33)"
      ],
      "execution_count": 0,
      "outputs": []
    },
    {
      "cell_type": "code",
      "metadata": {
        "id": "pRZgIjzW6VfW",
        "colab_type": "code",
        "outputId": "ddc19a85-c554-4f38-d888-32232b55cce2",
        "colab": {
          "base_uri": "https://localhost:8080/",
          "height": 52
        }
      },
      "source": [
        "from sklearn import ensemble\n",
        "lr = ensemble.GradientBoostingRegressor()\n",
        "model = lr.fit(X_train, y_train)\n",
        "print (\"Accuracy Score is: \\n\", model.score(X_test, y_test))\n",
        "#the models accuracy is 80.8% meaning that it is a good predictor"
      ],
      "execution_count": 46,
      "outputs": [
        {
          "output_type": "stream",
          "text": [
            "Accuracy Score is: \n",
            " 0.8080527126472209\n"
          ],
          "name": "stdout"
        }
      ]
    },
    {
      "cell_type": "code",
      "metadata": {
        "id": "iM1BVO2B6fWA",
        "colab_type": "code",
        "outputId": "8db720dc-e7fa-4c86-dd16-ca4a6b7f6824",
        "colab": {
          "base_uri": "https://localhost:8080/",
          "height": 52
        }
      },
      "source": [
        "\n",
        "y_pred = model.predict(X_test)\n",
        "from sklearn.metrics import mean_squared_error\n",
        "print ('RMSE is: \\n', mean_squared_error(y_test, predictions))\n",
        "#the mean squred error for the model is quite low hence confirming the previous findings of its predictive \n",
        "#capabilities given by the accuracy score"
      ],
      "execution_count": 50,
      "outputs": [
        {
          "output_type": "stream",
          "text": [
            "RMSE is: \n",
            " 0.054282893490123114\n"
          ],
          "name": "stdout"
        }
      ]
    },
    {
      "cell_type": "code",
      "metadata": {
        "id": "n17EdGrh6nDc",
        "colab_type": "code",
        "outputId": "b8056c74-3c2a-4582-f29b-2ed261010b79",
        "colab": {
          "base_uri": "https://localhost:8080/",
          "height": 313
        }
      },
      "source": [
        "actual_values = y_test\n",
        "plt.scatter(predictions, actual_values, alpha=.75,\n",
        "            color='b') #alpha helps to show overlapping data\n",
        "plt.xlabel('Predicted Price')\n",
        "plt.ylabel('Actual Price')\n",
        "plt.title('Linear Regression Model')\n",
        "#pltrandom_state=None.show()"
      ],
      "execution_count": 51,
      "outputs": [
        {
          "output_type": "execute_result",
          "data": {
            "text/plain": [
              "Text(0.5, 1.0, 'Linear Regression Model')"
            ]
          },
          "metadata": {
            "tags": []
          },
          "execution_count": 51
        },
        {
          "output_type": "display_data",
          "data": {
            "image/png": "[encoded data removed]",
            "text/plain": [
              "<Figure size 432x288 with 1 Axes>"
            ]
          },
          "metadata": {
            "tags": []
          }
        }
      ]
    },
    {
      "cell_type": "markdown",
      "metadata": {
        "id": "N6XsbB9hvg_D",
        "colab_type": "text"
      },
      "source": [
        "## Checking for Heteroskedasticity using Barlette's Test"
      ]
    },
    {
      "cell_type": "code",
      "metadata": {
        "id": "5k2LODKlwV8w",
        "colab_type": "code",
        "outputId": "06476e06-fd53-4d70-9f64-2218319f4de8",
        "colab": {
          "base_uri": "https://localhost:8080/",
          "height": 295
        }
      },
      "source": [
        "# Plotting the prediction errors\n",
        "\n",
        "residuals = y_test - y_pred\n",
        "plt.scatter(y_pred, residuals, color='blue')\n",
        "plt.title('Residual Plot')\n",
        "plt.ylabel('residual')\n",
        "plt.xlabel('fitted values')\n",
        "plt.axhline(y= residuals.mean(), color='black')\n",
        "plt.show()"
      ],
      "execution_count": 54,
      "outputs": [
        {
          "output_type": "display_data",
          "data": {
            "image/png": "[encoded data removed]",
            "text/plain": [
              "<Figure size 432x288 with 1 Axes>"
            ]
          },
          "metadata": {
            "tags": []
          }
        }
      ]
    },
    {
      "cell_type": "markdown",
      "metadata": {
        "id": "syMeMn8Mxonz",
        "colab_type": "text"
      },
      "source": [
        "##### The residual plot above shows a random pattern, indicating a fairly good fit for the linear model."
      ]
    },
    {
      "cell_type": "code",
      "metadata": {
        "id": "Dsson9ap-m5w",
        "colab_type": "code",
        "colab": {}
      },
      "source": [
        "from sklearn import linear_model\n",
        "from sklearn import ensemble"
      ],
      "execution_count": 0,
      "outputs": []
    },
    {
      "cell_type": "code",
      "metadata": {
        "id": "DYVw7axYnFpb",
        "colab_type": "code",
        "colab": {
          "base_uri": "https://localhost:8080/",
          "height": 329
        },
        "outputId": "17ada8f1-7bea-4949-ccbf-7a42566bd408"
      },
      "source": [
        "data8.info()"
      ],
      "execution_count": 93,
      "outputs": [
        {
          "output_type": "stream",
          "text": [
            "<class 'pandas.core.frame.DataFrame'>\n",
            "Int64Index: 21612 entries, 0 to 21612\n",
            "Data columns (total 13 columns):\n",
            "price              21612 non-null float64\n",
            "bedrooms           21612 non-null int64\n",
            "bathrooms          21612 non-null float64\n",
            "sqft_lot           21612 non-null int64\n",
            "floors             21612 non-null float64\n",
            "condition          21612 non-null int64\n",
            "grade              21612 non-null int64\n",
            "sqft_basement      21612 non-null int64\n",
            "yr_built           21612 non-null int64\n",
            "zipcode            21612 non-null int64\n",
            "sqft_abv_living    21612 non-null int64\n",
            "waterfront_0       21612 non-null uint8\n",
            "waterfront_1       21612 non-null uint8\n",
            "dtypes: float64(3), int64(8), uint8(2)\n",
            "memory usage: 2.6 MB\n"
          ],
          "name": "stdout"
        }
      ]
    },
    {
      "cell_type": "markdown",
      "metadata": {
        "id": "lQ2G4ZPDVOXE",
        "colab_type": "text"
      },
      "source": [
        "# 2nd Approach: Quantile Regression"
      ]
    },
    {
      "cell_type": "code",
      "metadata": {
        "id": "LFQ1gJJ3lDLj",
        "colab_type": "code",
        "colab": {}
      },
      "source": [
        "#Separating training and testing datasets\n",
        "C = data8.drop(['condition', 'grade','waterfront_0','waterfront_1'], axis=1) \n",
        "y = data8['price']"
      ],
      "execution_count": 0,
      "outputs": []
    },
    {
      "cell_type": "code",
      "metadata": {
        "id": "Oo7Fm44Wln9m",
        "colab_type": "code",
        "colab": {
          "base_uri": "https://localhost:8080/",
          "height": 451
        },
        "outputId": "59c1313b-69fb-4661-f8cd-ae5dc8300658"
      },
      "source": [
        "from sklearn.model_selection import train_test_split\n",
        "C_train, C_test, y_train, y_test = train_test_split(C,y, test_size=0.2, random_state=24)\n",
        "# importing python package statsmodels for Quantile Regression\n",
        "#\n",
        "import statsmodels.formula.api as smf\n",
        "# Finding the regression coefficients for the conditioned median, 0.5 quantile\n",
        "#\n",
        "mod = smf.quantreg('y ~ C', data6)\n",
        "res = mod.fit(q=.8)\n",
        "  # Then print out the summary of our model\n",
        "  #\n",
        "print(res.summary())"
      ],
      "execution_count": 95,
      "outputs": [
        {
          "output_type": "stream",
          "text": [
            "                         QuantReg Regression Results                          \n",
            "==============================================================================\n",
            "Dep. Variable:                      y   Pseudo R-squared:                1.000\n",
            "Model:                       QuantReg   Bandwidth:                   7.266e-06\n",
            "Method:                 Least Squares   Sparsity:                    0.0001794\n",
            "Date:                Mon, 27 Jan 2020   No. Observations:                21612\n",
            "Time:                        06:08:54   Df Residuals:                    21602\n",
            "                                        Df Model:                            9\n",
            "==============================================================================\n",
            "                 coef    std err          t      P>|t|      [0.025      0.975]\n",
            "------------------------------------------------------------------------------\n",
            "Intercept  -1.792e-10   5.27e-10     -0.340      0.734   -1.21e-09    8.54e-10\n",
            "C[0]           1.0000   2.32e-12   4.32e+11      0.000       1.000       1.000\n",
            "C[1]       -1.974e-06   1.11e-06     -1.783      0.075   -4.14e-06    1.96e-07\n",
            "C[2]        4.321e-07    1.8e-06      0.241      0.810   -3.09e-06    3.95e-06\n",
            "C[3]        6.944e-09   7.39e-12    939.386      0.000    6.93e-09    6.96e-09\n",
            "C[4]       -1.118e-08   2.01e-06     -0.006      0.996   -3.96e-06    3.94e-06\n",
            "C[5]       -3.209e-09   1.91e-09     -1.679      0.093   -6.96e-09    5.38e-10\n",
            "C[6]       -1.024e-08   3.53e-08     -0.290      0.772   -7.94e-08    5.89e-08\n",
            "C[7]       -1.062e-09   6.98e-10     -1.523      0.128   -2.43e-09    3.05e-10\n",
            "C[8]       -1.781e-09   7.94e-10     -2.244      0.025   -3.34e-09   -2.25e-10\n",
            "==============================================================================\n",
            "\n",
            "The condition number is large, 1.36e+09. This might indicate that there are\n",
            "strong multicollinearity or other numerical problems.\n"
          ],
          "name": "stdout"
        }
      ]
    },
    {
      "cell_type": "code",
      "metadata": {
        "id": "b6B8eV9rouI1",
        "colab_type": "code",
        "colab": {
          "base_uri": "https://localhost:8080/",
          "height": 415
        },
        "outputId": "8d9ad229-ef02-4355-ad78-d14ffb0819d4"
      },
      "source": [
        "# Making Predictions\n",
        "# \n",
        "pred = res.predict(C)\n",
        "# To compare the actual output values for X_test with the predicted values\n",
        "# \n",
        "B1 = pd.DataFrame({'Actual': y, 'Predicted': pred})\n",
        "B1"
      ],
      "execution_count": 96,
      "outputs": [
        {
          "output_type": "execute_result",
          "data": {
            "text/html": [
              "<div>\n",
              "<style scoped>\n",
              "    .dataframe tbody tr th:only-of-type {\n",
              "        vertical-align: middle;\n",
              "    }\n",
              "\n",
              "    .dataframe tbody tr th {\n",
              "        vertical-align: top;\n",
              "    }\n",
              "\n",
              "    .dataframe thead th {\n",
              "        text-align: right;\n",
              "    }\n",
              "</style>\n",
              "<table border=\"1\" class=\"dataframe\">\n",
              "  <thead>\n",
              "    <tr style=\"text-align: right;\">\n",
              "      <th></th>\n",
              "      <th>Actual</th>\n",
              "      <th>Predicted</th>\n",
              "    </tr>\n",
              "  </thead>\n",
              "  <tbody>\n",
              "    <tr>\n",
              "      <th>0</th>\n",
              "      <td>221900.0</td>\n",
              "      <td>221899.999935</td>\n",
              "    </tr>\n",
              "    <tr>\n",
              "      <th>1</th>\n",
              "      <td>538000.0</td>\n",
              "      <td>537999.999984</td>\n",
              "    </tr>\n",
              "    <tr>\n",
              "      <th>2</th>\n",
              "      <td>180000.0</td>\n",
              "      <td>179999.999964</td>\n",
              "    </tr>\n",
              "    <tr>\n",
              "      <th>3</th>\n",
              "      <td>604000.0</td>\n",
              "      <td>603999.999977</td>\n",
              "    </tr>\n",
              "    <tr>\n",
              "      <th>4</th>\n",
              "      <td>510000.0</td>\n",
              "      <td>509999.999990</td>\n",
              "    </tr>\n",
              "    <tr>\n",
              "      <th>...</th>\n",
              "      <td>...</td>\n",
              "      <td>...</td>\n",
              "    </tr>\n",
              "    <tr>\n",
              "      <th>21608</th>\n",
              "      <td>360000.0</td>\n",
              "      <td>359999.999921</td>\n",
              "    </tr>\n",
              "    <tr>\n",
              "      <th>21609</th>\n",
              "      <td>400000.0</td>\n",
              "      <td>399999.999955</td>\n",
              "    </tr>\n",
              "    <tr>\n",
              "      <th>21610</th>\n",
              "      <td>402101.0</td>\n",
              "      <td>402100.999932</td>\n",
              "    </tr>\n",
              "    <tr>\n",
              "      <th>21611</th>\n",
              "      <td>400000.0</td>\n",
              "      <td>399999.999936</td>\n",
              "    </tr>\n",
              "    <tr>\n",
              "      <th>21612</th>\n",
              "      <td>325000.0</td>\n",
              "      <td>324999.999919</td>\n",
              "    </tr>\n",
              "  </tbody>\n",
              "</table>\n",
              "<p>21612 rows × 2 columns</p>\n",
              "</div>"
            ],
            "text/plain": [
              "         Actual      Predicted\n",
              "0      221900.0  221899.999935\n",
              "1      538000.0  537999.999984\n",
              "2      180000.0  179999.999964\n",
              "3      604000.0  603999.999977\n",
              "4      510000.0  509999.999990\n",
              "...         ...            ...\n",
              "21608  360000.0  359999.999921\n",
              "21609  400000.0  399999.999955\n",
              "21610  402101.0  402100.999932\n",
              "21611  400000.0  399999.999936\n",
              "21612  325000.0  324999.999919\n",
              "\n",
              "[21612 rows x 2 columns]"
            ]
          },
          "metadata": {
            "tags": []
          },
          "execution_count": 96
        }
      ]
    },
    {
      "cell_type": "code",
      "metadata": {
        "id": "VvrWpma1pFiU",
        "colab_type": "code",
        "colab": {
          "base_uri": "https://localhost:8080/",
          "height": 35
        },
        "outputId": "0329ee6f-0904-41bc-ac4a-fd510b940ad6"
      },
      "source": [
        "from sklearn.metrics import r2_score\n",
        "z = r2_score(y, pred)\n",
        "z"
      ],
      "execution_count": 97,
      "outputs": [
        {
          "output_type": "execute_result",
          "data": {
            "text/plain": [
              "1.0"
            ]
          },
          "metadata": {
            "tags": []
          },
          "execution_count": 97
        }
      ]
    },
    {
      "cell_type": "code",
      "metadata": {
        "id": "H690Y7Srpiou",
        "colab_type": "code",
        "colab": {
          "base_uri": "https://localhost:8080/",
          "height": 451
        },
        "outputId": "0df4ecb1-2202-433a-bafa-b55971e565de"
      },
      "source": [
        "from sklearn.model_selection import train_test_split\n",
        "C_train, C_test, y_train, y_test = train_test_split(C,y, test_size=0.2, random_state=24)\n",
        "# importing python package statsmodels for Quantile Regression\n",
        "#\n",
        "import statsmodels.formula.api as smf\n",
        "# Finding the regression coefficients for the conditioned median, 0.5 quantile\n",
        "#\n",
        "mod = smf.quantreg('y ~ C', data6)\n",
        "res = mod.fit(q=.2)\n",
        "  # Then print out the summary of our model\n",
        "  #\n",
        "print(res.summary())"
      ],
      "execution_count": 98,
      "outputs": [
        {
          "output_type": "stream",
          "text": [
            "                         QuantReg Regression Results                          \n",
            "==============================================================================\n",
            "Dep. Variable:                      y   Pseudo R-squared:                1.000\n",
            "Model:                       QuantReg   Bandwidth:                   3.653e-06\n",
            "Method:                 Least Squares   Sparsity:                    6.619e-05\n",
            "Date:                Mon, 27 Jan 2020   No. Observations:                21612\n",
            "Time:                        06:17:59   Df Residuals:                    21602\n",
            "                                        Df Model:                            9\n",
            "==============================================================================\n",
            "                 coef    std err          t      P>|t|      [0.025      0.975]\n",
            "------------------------------------------------------------------------------\n",
            "Intercept  -3.322e-10   1.73e-10     -1.917      0.055   -6.72e-10     7.5e-12\n",
            "C[0]           1.0000   9.25e-13   1.08e+12      0.000       1.000       1.000\n",
            "C[1]       -6.817e-07    4.1e-07     -1.664      0.096   -1.48e-06    1.21e-07\n",
            "C[2]       -8.717e-07   6.46e-07     -1.350      0.177   -2.14e-06    3.94e-07\n",
            "C[3]        3.814e-09   8.77e-12    434.659      0.000     3.8e-09    3.83e-09\n",
            "C[4]        7.227e-07   6.65e-07      1.087      0.277    -5.8e-07    2.03e-06\n",
            "C[5]        1.157e-09   7.82e-10      1.479      0.139   -3.77e-10    2.69e-09\n",
            "C[6]        2.794e-09   1.15e-08      0.243      0.808   -1.97e-08    2.53e-08\n",
            "C[7]        2.483e-10   2.27e-10      1.096      0.273   -1.96e-10    6.92e-10\n",
            "C[8]       -8.949e-09   2.96e-10    -30.262      0.000   -9.53e-09   -8.37e-09\n",
            "==============================================================================\n",
            "\n",
            "The condition number is large, 1.36e+09. This might indicate that there are\n",
            "strong multicollinearity or other numerical problems.\n"
          ],
          "name": "stdout"
        }
      ]
    },
    {
      "cell_type": "code",
      "metadata": {
        "id": "bmy6fIbdp5ew",
        "colab_type": "code",
        "colab": {
          "base_uri": "https://localhost:8080/",
          "height": 35
        },
        "outputId": "daf4edc8-5674-48f3-d3b5-0247fe53013d"
      },
      "source": [
        "from sklearn.metrics import r2_score\n",
        "u = r2_score(y, pred)\n",
        "u"
      ],
      "execution_count": 99,
      "outputs": [
        {
          "output_type": "execute_result",
          "data": {
            "text/plain": [
              "1.0"
            ]
          },
          "metadata": {
            "tags": []
          },
          "execution_count": 99
        }
      ]
    },
    {
      "cell_type": "code",
      "metadata": {
        "id": "4LNWChXhp5aL",
        "colab_type": "code",
        "colab": {}
      },
      "source": [
        ""
      ],
      "execution_count": 0,
      "outputs": []
    },
    {
      "cell_type": "code",
      "metadata": {
        "id": "P69t2qlPhB5o",
        "colab_type": "code",
        "colab": {}
      },
      "source": [
        "## Let us now plot 0.1th, 0.5th and 0.9th quantile models against our original data.\n",
        "# \n",
        "plt.figure(5)\n",
        "plt.scatter(X, y,  color='black')\n",
        "plt.plot(X, y_pred, color='blue',\n",
        "         linewidth=3, label='Lin Reg')\n",
        "\n",
        "y_pred3 = models[0].params['Intercept'] + models[0].params['x'] * X\n",
        "plt.plot(x_, y_pred3, color='red',\n",
        "         linewidth=3, label='Q Reg : 0.1')\n",
        "\n",
        "y_pred4 = models[4].params['Intercept'] + models[4].params['x'] * X\n",
        "plt.plot(x_, y_pred4, color='green',\n",
        "         linewidth=3, label='Q Reg : 0.5')\n",
        "\n",
        "\n",
        "y_pred5 = models[8].params['Intercept'] + models[8].params['x'] * X\n",
        "plt.plot(x_, y_pred5, color='cyan',\n",
        "         linewidth=3, label='Q Reg : 0.9')\n",
        "\n",
        "plt.xticks(())\n",
        "plt.yticks(())\n",
        "plt.xlabel(\"x\")\n",
        "plt.ylabel(\"y and predicted y\")\n",
        "plt.title(\"Quantile regression on data with non-constant variance\")\n",
        "plt.legend()\n",
        "\n",
        "# Linear regression is plotted with the blue colored line. \n",
        "# We can compare that model with other quantile models."
      ],
      "execution_count": 0,
      "outputs": []
    },
    {
      "cell_type": "code",
      "metadata": {
        "id": "AsHuwl404ymP",
        "colab_type": "code",
        "colab": {}
      },
      "source": [
        "# Using critical value to find the heteroskedasticity\n",
        "import scipy as sp\n",
        "test_result, p_value = sp.stats.bartlett(y_pred, residuals)\n",
        "\n",
        "# To interpret the results we must also compute a critical value of the chi squared distribution\n",
        "degree_of_freedom = len(y_pred)-1\n",
        "probability = 1 - p_value\n",
        "critical_value = sp.stats.chi2.ppf(probability, degree_of_freedom)\n",
        "print(critical_value)\n",
        "\n",
        "## comparing the critical value and the test result\n",
        "if (test_result > critical_value):\n",
        " print('the variances are unequal, and the model should be reassessed')\n",
        "else:\n",
        " print('the variances are homogeneous!')"
      ],
      "execution_count": 0,
      "outputs": []
    },
    {
      "cell_type": "markdown",
      "metadata": {
        "id": "1ax7GW8lNuy8",
        "colab_type": "text"
      },
      "source": [
        "# 3rd Approach: Ridge Regression"
      ]
    },
    {
      "cell_type": "code",
      "metadata": {
        "id": "1Z5Usr_MaTlP",
        "colab_type": "code",
        "colab": {}
      },
      "source": [
        "# In order to create our ridge model we need to first determine the most appropriate value for\n",
        "# the l2 regularization. \n",
        "# L2 is the name of the hyperparameter that is used in ridge regression. \n",
        "# Determining the value of a hyperparameter requires the use of a grid. \n",
        "# In the code below, we first create our ridge model and indicate normalization in order to get better estimates. \n",
        "# Next we setup the grid that we will use. \n",
        "# The search object has several arguments within it. Alpha is hyperparameter we are trying to set. \n",
        "# The log space is the range of values we want to test. \n",
        "# We want the log of -5 to 2, but we only get 8 values from within that range evenly spread out. \n",
        "# Are metric is the mean squared error. Refit set true means to adjust the parameters while modeling \n",
        "# and cv is the number of folds to develop for the cross-validation. \n",
        "#\n",
        "from sklearn.model_selection import GridSearchCV\n",
        "from sklearn.linear_model import Ridge\n",
        "ridge = Ridge(normalize=True)\n",
        "search = GridSearchCV(estimator=ridge,param_grid={'alpha':np.logspace(-5,2,8)},scoring='neg_mean_squared_error',n_jobs=1,refit=True,cv=10)"
      ],
      "execution_count": 0,
      "outputs": []
    },
    {
      "cell_type": "code",
      "metadata": {
        "id": "yXq2xonia_FM",
        "colab_type": "code",
        "outputId": "0b9e9c98-dbbb-4850-d6a1-4b743310e0d5",
        "colab": {
          "base_uri": "https://localhost:8080/",
          "height": 35
        }
      },
      "source": [
        "# We now use the .fit function to run the model and then use the .best_params_ and\n",
        "#  .best_scores_ function to determine the models strength. \n",
        "# \n",
        "search.fit(X_train,y_train)\n",
        "search.best_params_\n",
        "# {'alpha': 0.001}\n",
        " \n",
        "\n",
        "# The best_params_ tells us what to set alpha too which in this case is 0.001. \n",
        "# The best_score_ tells us what the best possible mean squared error is. \n",
        "# In this case, the value of 0.38 is worse than what the baseline model was."
      ],
      "execution_count": 56,
      "outputs": [
        {
          "output_type": "execute_result",
          "data": {
            "text/plain": [
              "{'alpha': 0.001}"
            ]
          },
          "metadata": {
            "tags": []
          },
          "execution_count": 56
        }
      ]
    },
    {
      "cell_type": "code",
      "metadata": {
        "id": "GMKgQee1kaAt",
        "colab_type": "code",
        "outputId": "b857efd0-93dd-4b69-8172-68d90c0a822d",
        "colab": {
          "base_uri": "https://localhost:8080/",
          "height": 35
        }
      },
      "source": [
        "abs(search.best_score_)"
      ],
      "execution_count": 57,
      "outputs": [
        {
          "output_type": "execute_result",
          "data": {
            "text/plain": [
              "0.09769255674441646"
            ]
          },
          "metadata": {
            "tags": []
          },
          "execution_count": 57
        }
      ]
    },
    {
      "cell_type": "markdown",
      "metadata": {
        "id": "lSsZ57JTzqCc",
        "colab_type": "text"
      },
      "source": [
        "## Hyperparameter Tuning"
      ]
    },
    {
      "cell_type": "code",
      "metadata": {
        "id": "_1uEitU1bhZW",
        "colab_type": "code",
        "outputId": "92d501b7-5d2b-4e99-a040-d810c64f87a6",
        "colab": {
          "base_uri": "https://localhost:8080/",
          "height": 35
        }
      },
      "source": [
        "# We can confirm this by fitting our model with the ridge information and finding the\n",
        "# mean squared error below\n",
        "#\n",
        "ridge = Ridge(normalize=True,alpha=0.01)\n",
        "ridge.fit(X_train , y_train)\n",
        "second_model = (mean_squared_error(y_true= y_test,y_pred=ridge.predict(X_test)))\n",
        "print(second_model)"
      ],
      "execution_count": 58,
      "outputs": [
        {
          "output_type": "stream",
          "text": [
            "0.10169448649294988\n"
          ],
          "name": "stdout"
        }
      ]
    },
    {
      "cell_type": "code",
      "metadata": {
        "id": "kvkKC91_llh1",
        "colab_type": "code",
        "outputId": "4ce2af6e-f7f2-44df-f1b6-cd2b4d113346",
        "colab": {
          "base_uri": "https://localhost:8080/",
          "height": 35
        }
      },
      "source": [
        "ridge = Ridge(normalize=True,alpha=1)\n",
        "ridge.fit(X_train , y_train)\n",
        "second_model = (mean_squared_error(y_true= y_test,y_pred=ridge.predict(X_test)))\n",
        "print(second_model)"
      ],
      "execution_count": 59,
      "outputs": [
        {
          "output_type": "stream",
          "text": [
            "0.1286810620804601\n"
          ],
          "name": "stdout"
        }
      ]
    },
    {
      "cell_type": "code",
      "metadata": {
        "id": "qZXyQwvslpEf",
        "colab_type": "code",
        "outputId": "7be0f01a-ba7e-4001-eaa1-8afcc8412b08",
        "colab": {
          "base_uri": "https://localhost:8080/",
          "height": 35
        }
      },
      "source": [
        "ridge = Ridge(normalize=True,alpha=10)\n",
        "ridge.fit(X_train , y_train)\n",
        "second_model = (mean_squared_error(y_true= y_test,y_pred=ridge.predict(X_test)))\n",
        "print(second_model)"
      ],
      "execution_count": 60,
      "outputs": [
        {
          "output_type": "stream",
          "text": [
            "0.22052155581771388\n"
          ],
          "name": "stdout"
        }
      ]
    },
    {
      "cell_type": "code",
      "metadata": {
        "id": "Kct81RPjm0xz",
        "colab_type": "code",
        "outputId": "885b3776-e330-405f-fafb-2278255d2c60",
        "colab": {
          "base_uri": "https://localhost:8080/",
          "height": 35
        }
      },
      "source": [
        "ridge = Ridge(normalize=True,alpha=100)\n",
        "ridge.fit(X_train , y_train)\n",
        "second_model = (mean_squared_error(y_true= y_test,y_pred=ridge.predict(X_test)))\n",
        "print(second_model)"
      ],
      "execution_count": 61,
      "outputs": [
        {
          "output_type": "stream",
          "text": [
            "0.27391945913529925\n"
          ],
          "name": "stdout"
        }
      ]
    },
    {
      "cell_type": "code",
      "metadata": {
        "id": "kLTINISejvsC",
        "colab_type": "code",
        "outputId": "f556c2e5-71bc-4610-abfe-c7897b3856fb",
        "colab": {
          "base_uri": "https://localhost:8080/",
          "height": 1000
        }
      },
      "source": [
        "for i in range (-2, 3):\n",
        "    alpha = 10**i\n",
        "    rm = linear_model.Ridge(alpha=alpha)\n",
        "    ridge_model = rm.fit(X_train, y_train)\n",
        "    preds_ridge = ridge_model.predict(X_test)\n",
        "    \n",
        "    plt.scatter(preds_ridge, actual_values, alpha=.75, color='b')\n",
        "    plt.xlabel('Predicted Price')\n",
        "    plt.ylabel('Actual Price')\n",
        "    plt.title('Ridge Regularization with alpha = {}'.format(alpha))\n",
        "    # print ('RMSE is: \\n', mean_squared_error(y_test, predictions))\n",
        "    overlay = ('R^2 is: {}\\nRMSE is: {}'.format(\n",
        "        \n",
        "                    ridge_model.score(X_test, y_test),\n",
        "\n",
        "                    mean_squared_error(y_test, preds_ridge)))\n",
        "    \n",
        "    plt.annotate(s=overlay,xy=(12.1,10.6),size='x-large')\n",
        "    plt.show()"
      ],
      "execution_count": 62,
      "outputs": [
        {
          "output_type": "display_data",
          "data": {
            "image/png": "[encoded data removed]",
            "text/plain": [
              "<Figure size 432x288 with 1 Axes>"
            ]
          },
          "metadata": {
            "tags": []
          }
        },
        {
          "output_type": "display_data",
          "data": {
            "image/png": "[encoded data removed]",
            "text/plain": [
              "<Figure size 432x288 with 1 Axes>"
            ]
          },
          "metadata": {
            "tags": []
          }
        },
        {
          "output_type": "display_data",
          "data": {
            "image/png": "[encoded data removed]",
            "text/plain": [
              "<Figure size 432x288 with 1 Axes>"
            ]
          },
          "metadata": {
            "tags": []
          }
        },
        {
          "output_type": "display_data",
          "data": {
            "image/png": "[encoded data removed]",
            "text/plain": [
              "<Figure size 432x288 with 1 Axes>"
            ]
          },
          "metadata": {
            "tags": []
          }
        },
        {
          "output_type": "display_data",
          "data": {
            "image/png": "[encoded data removed]",
            "text/plain": [
              "<Figure size 432x288 with 1 Axes>"
            ]
          },
          "metadata": {
            "tags": []
          }
        }
      ]
    },
    {
      "cell_type": "markdown",
      "metadata": {
        "id": "nHB_ymp4Nxwg",
        "colab_type": "text"
      },
      "source": [
        "# 4th Approach: Lasso Regression"
      ]
    },
    {
      "cell_type": "code",
      "metadata": {
        "id": "B2pSdpwdeAO9",
        "colab_type": "code",
        "colab": {}
      },
      "source": [
        "# Before building the models, let's first scale data. \n",
        "# Lasso put constraints on the size of the coefficients associated to each variable. \n",
        "# But, this value depends on the magnitude of each variable and it is therefore \n",
        "# necessary to center and reduce, or standardize, the variables.\n",
        "# \n",
        "\n",
        "# Importing StandardScaler\n",
        "#\n",
        "from sklearn.preprocessing import StandardScaler\n",
        "\n",
        "# Creating features and target matrixes\n",
        "\n",
        "# Scaling data \n",
        "#\n",
        "scaler = StandardScaler()\n",
        "scaler.fit(X_train)\n",
        "X_train = scaler.transform(X_train)"
      ],
      "execution_count": 0,
      "outputs": []
    },
    {
      "cell_type": "code",
      "metadata": {
        "id": "b89ES5fIeZ2V",
        "colab_type": "code",
        "outputId": "48dfb5db-441f-416d-8d12-bddd26747071",
        "colab": {
          "base_uri": "https://localhost:8080/",
          "height": 69
        }
      },
      "source": [
        "# We can basically build the Lasso model. \n",
        "# But for now, we will train it on the whole dataset and look at an R-squared score and on the model coefficients. \n",
        "# Note, that we are not setting the alpha, it is defined as 1.\n",
        "# \n",
        "\n",
        "# Importing linear models\n",
        "# \n",
        "from sklearn import linear_model\n",
        "\n",
        "# Creating lasso object\n",
        "# \n",
        "lasso = linear_model.Lasso() \n",
        "\n",
        "# Fitting the models\n",
        "# \n",
        "lasso.fit(X_train, y_train) \n",
        "\n",
        "# Print scores, Mean Squared Error, and coefficients\n",
        "# \n",
        "print(\"lasso score:\", lasso.score(X_test, y_test)) \n",
        "print(\"lasso MSE:\", mean_squared_error(y_test, lasso.predict(X_test))) \n",
        "print(\"lasso coef:\", lasso.coef_) "
      ],
      "execution_count": 75,
      "outputs": [
        {
          "output_type": "stream",
          "text": [
            "lasso score: -2.9904649825995833e-05\n",
            "lasso MSE: 0.2776799702148565\n",
            "lasso coef: [ 0.  0.  0.  0.  0.  0.  0.  0. -0.  0. -0.  0.]\n"
          ],
          "name": "stdout"
        }
      ]
    },
    {
      "cell_type": "code",
      "metadata": {
        "id": "h90LlY7yerVc",
        "colab_type": "code",
        "outputId": "59452a3e-077c-4b3b-c9e1-9643c54d8de6",
        "colab": {
          "base_uri": "https://localhost:8080/",
          "height": 208
        }
      },
      "source": [
        "# Splitting the data into training and test sets, building Lasso, \n",
        "# and choosing the regularization parameter with the help of GridSearch. \n",
        "# For that, we have to define the set of parameters for GridSearch. \n",
        "# In this case, a model with the highest R-squared score will give us the best parameters.\n",
        "# \n",
        "\n",
        "#splitting data into training and test sets, and choose a set of parameters\n",
        "\n",
        "X_train, X_test, y_train, y_test = train_test_split(A, b, test_size=0.25, random_state=101)\n",
        "parameters = {'alpha': np.concatenate((np.arange(0.1,2,0.1), np.arange(2, 5, 0.5), np.arange(5, 25, 1)))}\n",
        "\n",
        "linear = linear_model.LinearRegression()\n",
        "lasso = linear_model.Lasso() \n",
        "gridlasso = GridSearchCV(lasso, parameters, scoring ='r2') \n",
        "\n",
        "# Fitting models and print the best parameters, R-squared scores, MSE, and coefficients\n",
        "gridlasso.fit(X_train, y_train) \n",
        "linear.fit(X_train, y_train) \n",
        "print(\"lasso best parameters:\", gridlasso.best_params_) \n",
        "print(\"lasso score:\", gridlasso.score(X_test, y_test))\n",
        "print(\"linear score:\", linear.score(X_test, y_test)) \n",
        "print(\"lasso MSE:\", mean_squared_error(y_test, gridlasso.predict(X_test)))\n",
        "print(\"linear MSE:\", mean_squared_error(y_test, linear.predict(X_test))) \n",
        "print(\"lasso best estimator coef:\", gridlasso.best_estimator_.coef_)\n",
        "print(\"linear coef:\", linear.coef_)"
      ],
      "execution_count": 65,
      "outputs": [
        {
          "output_type": "stream",
          "text": [
            "lasso best parameters: {'alpha': 0.1}\n",
            "lasso score: 0.5593240068923558\n",
            "linear score: 0.6450537281827642\n",
            "lasso MSE: 0.1223632374107666\n",
            "linear MSE: 0.09855852282797188\n",
            "lasso best estimator coef: [-0.00000000e+00  0.00000000e+00 -1.66463102e-07  0.00000000e+00\n",
            "  0.00000000e+00  4.85673091e-02  1.65360048e-04 -2.87041982e-03\n",
            "  6.09285139e-04  1.98728799e-04 -0.00000000e+00  0.00000000e+00]\n",
            "linear coef: [-2.79359227e-02  7.84693885e-02  3.32668903e-08  1.03997364e-01\n",
            "  4.40432951e-02  2.31635884e-01  1.52140579e-04 -5.36729378e-03\n",
            "  2.20427980e-04  7.92417008e-05 -2.45530109e-01  2.45530109e-01]\n"
          ],
          "name": "stdout"
        }
      ]
    },
    {
      "cell_type": "code",
      "metadata": {
        "id": "sTaTuTJFfcQ0",
        "colab_type": "code",
        "outputId": "7ade1b9e-88ce-4953-db1f-af673e0d3504",
        "colab": {
          "base_uri": "https://localhost:8080/",
          "height": 458
        }
      },
      "source": [
        "# Importing library for visualization\n",
        "#\n",
        "import matplotlib.pyplot as plt\n",
        "coefsLasso = [] \n",
        "\n",
        "# Building Lasso for 200 values of alpha and write the coefficients into array\n",
        "# \n",
        "\n",
        "import numpy as np\n",
        "\n",
        "alphasLasso = np.arange (0, 20, 0.1) \n",
        "for i in range(200):\n",
        "    lasso = linear_model.Lasso(alpha=alphasLasso[i])\n",
        "    lasso.fit(X_train, y_train)\n",
        "    coefsLasso.append(lasso.coef_) \n",
        "\n",
        "# Building Lasso coefficient plots\n",
        "# \n",
        "plt.figure(figsize = (16,7))\n",
        "\n",
        "plt.subplot(121)\n",
        "plt.plot(alphasLasso, coefsLasso)\n",
        "plt.title('Lasso coefficients')\n",
        "plt.xlabel('alpha')\n",
        "plt.ylabel('coefs')\n",
        "\n",
        "plt.show()\n",
        "\n",
        "# As we can see, Lasso influences less on the large coefficients, but the small ones Lasso reduces to zeroes. \n",
        "# Therefore Lasso can also be used to determine which features are important \n",
        "# to us and keeps the features that may influence the target variable"
      ],
      "execution_count": 66,
      "outputs": [
        {
          "output_type": "display_data",
          "data": {
            "image/png": "[encoded data removed]",
            "text/plain": [
              "<Figure size 1152x504 with 1 Axes>"
            ]
          },
          "metadata": {
            "tags": []
          }
        }
      ]
    },
    {
      "cell_type": "markdown",
      "metadata": {
        "id": "5o9Gv_cbN0rS",
        "colab_type": "text"
      },
      "source": [
        "# 5th Approach: Elastic-Net Regression"
      ]
    },
    {
      "cell_type": "code",
      "metadata": {
        "id": "J_Ss2dcswPLt",
        "colab_type": "code",
        "colab": {}
      },
      "source": [
        "#importing the necessary libraries to use\n",
        "from sklearn.linear_model import ElasticNet"
      ],
      "execution_count": 0,
      "outputs": []
    },
    {
      "cell_type": "code",
      "metadata": {
        "id": "fnMPOEgKwe4O",
        "colab_type": "code",
        "outputId": "78b370fe-72f8-43c3-ce84-1720cf3827af",
        "colab": {
          "base_uri": "https://localhost:8080/",
          "height": 35
        }
      },
      "source": [
        "regression=LinearRegression()\n",
        "regression.fit(X_train,y_train)\n",
        "first_model=(mean_squared_error(y_true=y_test,y_pred=regression.predict(X_test)))\n",
        "print(first_model)"
      ],
      "execution_count": 68,
      "outputs": [
        {
          "output_type": "stream",
          "text": [
            "0.09855852282797188\n"
          ],
          "name": "stdout"
        }
      ]
    },
    {
      "cell_type": "code",
      "metadata": {
        "id": "ZJtCltixzwaP",
        "colab_type": "code",
        "colab": {}
      },
      "source": [
        "# Elastic Net Model\n",
        "# Elastic net, just like ridge and lasso regression, requires normalize data. \n",
        "# This argument  is set inside the ElasticNet function. \n",
        "# The second thing we need to do is create our grid.\n",
        "# \n",
        "elastic=ElasticNet(normalize=True)\n",
        "search=GridSearchCV(estimator=elastic,param_grid={'alpha':np.logspace(-5,2,8),'l1_ratio':[.2,.4,.6,.8]},scoring='neg_mean_squared_error',n_jobs=1,refit=True,cv=10)"
      ],
      "execution_count": 0,
      "outputs": []
    },
    {
      "cell_type": "code",
      "metadata": {
        "id": "JUWLC2350Dbr",
        "colab_type": "code",
        "outputId": "ae125caa-d416-4716-f4b2-2d06e52f0e9f",
        "colab": {
          "base_uri": "https://localhost:8080/",
          "height": 35
        }
      },
      "source": [
        "search.fit(X_train,y_train)\n",
        "search.best_params_\n",
        "abs(search.best_score_)"
      ],
      "execution_count": 70,
      "outputs": [
        {
          "output_type": "execute_result",
          "data": {
            "text/plain": [
              "0.09929457913413683"
            ]
          },
          "metadata": {
            "tags": []
          },
          "execution_count": 70
        }
      ]
    },
    {
      "cell_type": "code",
      "metadata": {
        "id": "GzLQDTzd0LCB",
        "colab_type": "code",
        "outputId": "bcfba0bd-e90d-45eb-a315-282869622b23",
        "colab": {
          "base_uri": "https://localhost:8080/",
          "height": 35
        }
      },
      "source": [
        "# The best hyperparameters was an alpha set to 0.001 and a l1_ratio of 0.8. \n",
        "# With these settings we got an MSE of 1.08. This is above our baseline model of MSE 1.05  for the baseline model. \n",
        "# Which means that elastic net is doing worse than linear regression. \n",
        "# For clarity, we will set our hyperparameters to the recommended values and run on the data.\n",
        "# \n",
        "elastic=ElasticNet(normalize=True,alpha=0.001,l1_ratio=0.75)\n",
        "elastic.fit(X_train,y_train)\n",
        "second_model=(mean_squared_error(y_true=y_test,y_pred=elastic.predict(X_test)))\n",
        "print(second_model)"
      ],
      "execution_count": 71,
      "outputs": [
        {
          "output_type": "stream",
          "text": [
            "0.20573065399969875\n"
          ],
          "name": "stdout"
        }
      ]
    },
    {
      "cell_type": "code",
      "metadata": {
        "id": "ALVTyJz60eXq",
        "colab_type": "code",
        "outputId": "822ea1d7-c99c-441d-a4e2-f7d222720ebd",
        "colab": {
          "base_uri": "https://localhost:8080/",
          "height": 225
        }
      },
      "source": [
        "# Below are the coefficients\n",
        "# \n",
        "coef_dict_baseline = {}\n",
        "for coef, feat in zip(elastic.coef_,X_test.columns):\n",
        "    coef_dict_baseline[feat] = coef\n",
        "coef_dict_baseline\n",
        "\n",
        "# The coefficients are mostly the same. \n",
        "# Notice that occupation was completely removed from the model in the elastic net version. \n",
        "# This means that this values was no good to the algorithm. Traditional regression cannot do this."
      ],
      "execution_count": 72,
      "outputs": [
        {
          "output_type": "execute_result",
          "data": {
            "text/plain": [
              "{'bathrooms': 0.03285297301235168,\n",
              " 'bedrooms': 0.007133311912653315,\n",
              " 'condition': 0.0,\n",
              " 'floors': 0.0073146112238955925,\n",
              " 'grade': 0.03753750477601422,\n",
              " 'sqft_abv_living': 2.322043242624469e-05,\n",
              " 'sqft_basement': 2.1061112404780766e-05,\n",
              " 'sqft_lot': 0.0,\n",
              " 'waterfront_0': -0.0,\n",
              " 'waterfront_1': 0.0,\n",
              " 'yr_built': -0.0,\n",
              " 'zipcode': 0.0}"
            ]
          },
          "metadata": {
            "tags": []
          },
          "execution_count": 72
        }
      ]
    },
    {
      "cell_type": "code",
      "metadata": {
        "id": "_Gw0g61-0w1f",
        "colab_type": "code",
        "outputId": "fd3daa52-a9f4-4c01-8847-2308875ab989",
        "colab": {
          "base_uri": "https://localhost:8080/",
          "height": 795
        }
      },
      "source": [
        "# Building Elastic net coefficient plots\n",
        "\n",
        "plt.figure(figsize = (16,7))\n",
        "\n",
        "plt.subplot(121)\n",
        "plt.plot( coef, elastic.coef_)\n",
        "plt.title('Lasso coefficients')\n",
        "plt.xlabel('alpha')\n",
        "plt.ylabel('coefs')\n",
        "\n",
        "plt.show()"
      ],
      "execution_count": 80,
      "outputs": [
        {
          "output_type": "error",
          "ename": "ValueError",
          "evalue": "ignored",
          "traceback": [
            "\u001b[0;31m---------------------------------------------------------------------------\u001b[0m",
            "\u001b[0;31mValueError\u001b[0m                                Traceback (most recent call last)",
            "\u001b[0;32m<ipython-input-80-52a761541daf>\u001b[0m in \u001b[0;36m<module>\u001b[0;34m()\u001b[0m\n\u001b[1;32m      3\u001b[0m \u001b[0;34m\u001b[0m\u001b[0m\n\u001b[1;32m      4\u001b[0m \u001b[0mplt\u001b[0m\u001b[0;34m.\u001b[0m\u001b[0msubplot\u001b[0m\u001b[0;34m(\u001b[0m\u001b[0;36m121\u001b[0m\u001b[0;34m)\u001b[0m\u001b[0;34m\u001b[0m\u001b[0;34m\u001b[0m\u001b[0m\n\u001b[0;32m----> 5\u001b[0;31m \u001b[0mplt\u001b[0m\u001b[0;34m.\u001b[0m\u001b[0mplot\u001b[0m\u001b[0;34m(\u001b[0m \u001b[0mcoef\u001b[0m\u001b[0;34m,\u001b[0m \u001b[0melastic\u001b[0m\u001b[0;34m.\u001b[0m\u001b[0mcoef_\u001b[0m\u001b[0;34m)\u001b[0m\u001b[0;34m\u001b[0m\u001b[0;34m\u001b[0m\u001b[0m\n\u001b[0m\u001b[1;32m      6\u001b[0m \u001b[0mplt\u001b[0m\u001b[0;34m.\u001b[0m\u001b[0mtitle\u001b[0m\u001b[0;34m(\u001b[0m\u001b[0;34m'Lasso coefficients'\u001b[0m\u001b[0;34m)\u001b[0m\u001b[0;34m\u001b[0m\u001b[0;34m\u001b[0m\u001b[0m\n\u001b[1;32m      7\u001b[0m \u001b[0mplt\u001b[0m\u001b[0;34m.\u001b[0m\u001b[0mxlabel\u001b[0m\u001b[0;34m(\u001b[0m\u001b[0;34m'alpha'\u001b[0m\u001b[0;34m)\u001b[0m\u001b[0;34m\u001b[0m\u001b[0;34m\u001b[0m\u001b[0m\n",
            "\u001b[0;32m/usr/local/lib/python3.6/dist-packages/matplotlib/pyplot.py\u001b[0m in \u001b[0;36mplot\u001b[0;34m(scalex, scaley, data, *args, **kwargs)\u001b[0m\n\u001b[1;32m   2787\u001b[0m     return gca().plot(\n\u001b[1;32m   2788\u001b[0m         *args, scalex=scalex, scaley=scaley, **({\"data\": data} if data\n\u001b[0;32m-> 2789\u001b[0;31m         is not None else {}), **kwargs)\n\u001b[0m\u001b[1;32m   2790\u001b[0m \u001b[0;34m\u001b[0m\u001b[0m\n\u001b[1;32m   2791\u001b[0m \u001b[0;34m\u001b[0m\u001b[0m\n",
            "\u001b[0;32m/usr/local/lib/python3.6/dist-packages/matplotlib/axes/_axes.py\u001b[0m in \u001b[0;36mplot\u001b[0;34m(self, scalex, scaley, data, *args, **kwargs)\u001b[0m\n\u001b[1;32m   1663\u001b[0m         \"\"\"\n\u001b[1;32m   1664\u001b[0m         \u001b[0mkwargs\u001b[0m \u001b[0;34m=\u001b[0m \u001b[0mcbook\u001b[0m\u001b[0;34m.\u001b[0m\u001b[0mnormalize_kwargs\u001b[0m\u001b[0;34m(\u001b[0m\u001b[0mkwargs\u001b[0m\u001b[0;34m,\u001b[0m \u001b[0mmlines\u001b[0m\u001b[0;34m.\u001b[0m\u001b[0mLine2D\u001b[0m\u001b[0;34m.\u001b[0m\u001b[0m_alias_map\u001b[0m\u001b[0;34m)\u001b[0m\u001b[0;34m\u001b[0m\u001b[0;34m\u001b[0m\u001b[0m\n\u001b[0;32m-> 1665\u001b[0;31m         \u001b[0mlines\u001b[0m \u001b[0;34m=\u001b[0m \u001b[0;34m[\u001b[0m\u001b[0;34m*\u001b[0m\u001b[0mself\u001b[0m\u001b[0;34m.\u001b[0m\u001b[0m_get_lines\u001b[0m\u001b[0;34m(\u001b[0m\u001b[0;34m*\u001b[0m\u001b[0margs\u001b[0m\u001b[0;34m,\u001b[0m \u001b[0mdata\u001b[0m\u001b[0;34m=\u001b[0m\u001b[0mdata\u001b[0m\u001b[0;34m,\u001b[0m \u001b[0;34m**\u001b[0m\u001b[0mkwargs\u001b[0m\u001b[0;34m)\u001b[0m\u001b[0;34m]\u001b[0m\u001b[0;34m\u001b[0m\u001b[0;34m\u001b[0m\u001b[0m\n\u001b[0m\u001b[1;32m   1666\u001b[0m         \u001b[0;32mfor\u001b[0m \u001b[0mline\u001b[0m \u001b[0;32min\u001b[0m \u001b[0mlines\u001b[0m\u001b[0;34m:\u001b[0m\u001b[0;34m\u001b[0m\u001b[0;34m\u001b[0m\u001b[0m\n\u001b[1;32m   1667\u001b[0m             \u001b[0mself\u001b[0m\u001b[0;34m.\u001b[0m\u001b[0madd_line\u001b[0m\u001b[0;34m(\u001b[0m\u001b[0mline\u001b[0m\u001b[0;34m)\u001b[0m\u001b[0;34m\u001b[0m\u001b[0;34m\u001b[0m\u001b[0m\n",
            "\u001b[0;32m/usr/local/lib/python3.6/dist-packages/matplotlib/axes/_base.py\u001b[0m in \u001b[0;36m__call__\u001b[0;34m(self, *args, **kwargs)\u001b[0m\n\u001b[1;32m    223\u001b[0m                 \u001b[0mthis\u001b[0m \u001b[0;34m+=\u001b[0m \u001b[0margs\u001b[0m\u001b[0;34m[\u001b[0m\u001b[0;36m0\u001b[0m\u001b[0;34m]\u001b[0m\u001b[0;34m,\u001b[0m\u001b[0;34m\u001b[0m\u001b[0;34m\u001b[0m\u001b[0m\n\u001b[1;32m    224\u001b[0m                 \u001b[0margs\u001b[0m \u001b[0;34m=\u001b[0m \u001b[0margs\u001b[0m\u001b[0;34m[\u001b[0m\u001b[0;36m1\u001b[0m\u001b[0;34m:\u001b[0m\u001b[0;34m]\u001b[0m\u001b[0;34m\u001b[0m\u001b[0;34m\u001b[0m\u001b[0m\n\u001b[0;32m--> 225\u001b[0;31m             \u001b[0;32myield\u001b[0m \u001b[0;32mfrom\u001b[0m \u001b[0mself\u001b[0m\u001b[0;34m.\u001b[0m\u001b[0m_plot_args\u001b[0m\u001b[0;34m(\u001b[0m\u001b[0mthis\u001b[0m\u001b[0;34m,\u001b[0m \u001b[0mkwargs\u001b[0m\u001b[0;34m)\u001b[0m\u001b[0;34m\u001b[0m\u001b[0;34m\u001b[0m\u001b[0m\n\u001b[0m\u001b[1;32m    226\u001b[0m \u001b[0;34m\u001b[0m\u001b[0m\n\u001b[1;32m    227\u001b[0m     \u001b[0;32mdef\u001b[0m \u001b[0mget_next_color\u001b[0m\u001b[0;34m(\u001b[0m\u001b[0mself\u001b[0m\u001b[0;34m)\u001b[0m\u001b[0;34m:\u001b[0m\u001b[0;34m\u001b[0m\u001b[0;34m\u001b[0m\u001b[0m\n",
            "\u001b[0;32m/usr/local/lib/python3.6/dist-packages/matplotlib/axes/_base.py\u001b[0m in \u001b[0;36m_plot_args\u001b[0;34m(self, tup, kwargs)\u001b[0m\n\u001b[1;32m    389\u001b[0m             \u001b[0mx\u001b[0m\u001b[0;34m,\u001b[0m \u001b[0my\u001b[0m \u001b[0;34m=\u001b[0m \u001b[0mindex_of\u001b[0m\u001b[0;34m(\u001b[0m\u001b[0mtup\u001b[0m\u001b[0;34m[\u001b[0m\u001b[0;34m-\u001b[0m\u001b[0;36m1\u001b[0m\u001b[0;34m]\u001b[0m\u001b[0;34m)\u001b[0m\u001b[0;34m\u001b[0m\u001b[0;34m\u001b[0m\u001b[0m\n\u001b[1;32m    390\u001b[0m \u001b[0;34m\u001b[0m\u001b[0m\n\u001b[0;32m--> 391\u001b[0;31m         \u001b[0mx\u001b[0m\u001b[0;34m,\u001b[0m \u001b[0my\u001b[0m \u001b[0;34m=\u001b[0m \u001b[0mself\u001b[0m\u001b[0;34m.\u001b[0m\u001b[0m_xy_from_xy\u001b[0m\u001b[0;34m(\u001b[0m\u001b[0mx\u001b[0m\u001b[0;34m,\u001b[0m \u001b[0my\u001b[0m\u001b[0;34m)\u001b[0m\u001b[0;34m\u001b[0m\u001b[0;34m\u001b[0m\u001b[0m\n\u001b[0m\u001b[1;32m    392\u001b[0m \u001b[0;34m\u001b[0m\u001b[0m\n\u001b[1;32m    393\u001b[0m         \u001b[0;32mif\u001b[0m \u001b[0mself\u001b[0m\u001b[0;34m.\u001b[0m\u001b[0mcommand\u001b[0m \u001b[0;34m==\u001b[0m \u001b[0;34m'plot'\u001b[0m\u001b[0;34m:\u001b[0m\u001b[0;34m\u001b[0m\u001b[0;34m\u001b[0m\u001b[0m\n",
            "\u001b[0;32m/usr/local/lib/python3.6/dist-packages/matplotlib/axes/_base.py\u001b[0m in \u001b[0;36m_xy_from_xy\u001b[0;34m(self, x, y)\u001b[0m\n\u001b[1;32m    268\u001b[0m         \u001b[0;32mif\u001b[0m \u001b[0mx\u001b[0m\u001b[0;34m.\u001b[0m\u001b[0mshape\u001b[0m\u001b[0;34m[\u001b[0m\u001b[0;36m0\u001b[0m\u001b[0;34m]\u001b[0m \u001b[0;34m!=\u001b[0m \u001b[0my\u001b[0m\u001b[0;34m.\u001b[0m\u001b[0mshape\u001b[0m\u001b[0;34m[\u001b[0m\u001b[0;36m0\u001b[0m\u001b[0;34m]\u001b[0m\u001b[0;34m:\u001b[0m\u001b[0;34m\u001b[0m\u001b[0;34m\u001b[0m\u001b[0m\n\u001b[1;32m    269\u001b[0m             raise ValueError(\"x and y must have same first dimension, but \"\n\u001b[0;32m--> 270\u001b[0;31m                              \"have shapes {} and {}\".format(x.shape, y.shape))\n\u001b[0m\u001b[1;32m    271\u001b[0m         \u001b[0;32mif\u001b[0m \u001b[0mx\u001b[0m\u001b[0;34m.\u001b[0m\u001b[0mndim\u001b[0m \u001b[0;34m>\u001b[0m \u001b[0;36m2\u001b[0m \u001b[0;32mor\u001b[0m \u001b[0my\u001b[0m\u001b[0;34m.\u001b[0m\u001b[0mndim\u001b[0m \u001b[0;34m>\u001b[0m \u001b[0;36m2\u001b[0m\u001b[0;34m:\u001b[0m\u001b[0;34m\u001b[0m\u001b[0;34m\u001b[0m\u001b[0m\n\u001b[1;32m    272\u001b[0m             raise ValueError(\"x and y can be no greater than 2-D, but have \"\n",
            "\u001b[0;31mValueError\u001b[0m: x and y must have same first dimension, but have shapes (1,) and (12,)"
          ]
        },
        {
          "output_type": "display_data",
          "data": {
            "image/png": "[encoded data removed]",
            "text/plain": [
              "<Figure size 1152x504 with 1 Axes>"
            ]
          },
          "metadata": {
            "tags": []
          }
        }
      ]
    },
    {
      "cell_type": "markdown",
      "metadata": {
        "id": "CHDIoZSA5Vmt",
        "colab_type": "text"
      },
      "source": [
        "There are no patterns to explain the variances in the data.\n",
        "The features are independent."
      ]
    },
    {
      "cell_type": "code",
      "metadata": {
        "id": "P03lGO5-kuWt",
        "colab_type": "code",
        "colab": {
          "base_uri": "https://localhost:8080/",
          "height": 458
        },
        "outputId": "c45df26c-6c3b-4a4d-d786-542b75721061"
      },
      "source": [
        "# Building Elastic net coefficient plots\n",
        "\n",
        "plt.figure(figsize = (16,7))\n",
        "\n",
        "plt.subplot(121)\n",
        "plt.plot( elastic.coef_,X_test.columns)\n",
        "plt.title('Lasso coefficients')\n",
        "plt.xlabel('alpha')\n",
        "plt.ylabel('coefs')\n",
        "\n",
        "plt.show()"
      ],
      "execution_count": 79,
      "outputs": [
        {
          "output_type": "display_data",
          "data": {
            "image/png": "[encoded data removed]",
            "text/plain": [
              "<Figure size 1152x504 with 1 Axes>"
            ]
          },
          "metadata": {
            "tags": []
          }
        }
      ]
    },
    {
      "cell_type": "code",
      "metadata": {
        "id": "o02HJgD8r5Zy",
        "colab_type": "code",
        "outputId": "a1a694a3-234e-4ffd-d097-83d2d5f71ecf",
        "colab": {
          "base_uri": "https://localhost:8080/",
          "height": 225
        }
      },
      "source": [
        "# Below are the coefficients\n",
        "# \n",
        "coef_dict_baseline = {}\n",
        "for coef, feat in zip(elastic.coef_,X_test.columns):\n",
        "    coef_dict_baseline[feat] = coef\n",
        "coef_dict_baseline\n",
        "\n",
        "# The coefficients are mostly the same. \n",
        "# Notice that occupation was completely removed from the model in the elastic net version. \n",
        "# This means that this values was no good to the algorithm. Traditional regression cannot do this."
      ],
      "execution_count": 0,
      "outputs": [
        {
          "output_type": "execute_result",
          "data": {
            "text/plain": [
              "{'bathrooms': 0.03285297301235168,\n",
              " 'bedrooms': 0.007133311912653315,\n",
              " 'condition': 0.0,\n",
              " 'floors': 0.0073146112238955925,\n",
              " 'grade': 0.03753750477601422,\n",
              " 'sqft_abv_living': 2.322043242624469e-05,\n",
              " 'sqft_basement': 2.1061112404780766e-05,\n",
              " 'sqft_lot': 0.0,\n",
              " 'waterfront_0': -0.0,\n",
              " 'waterfront_1': 0.0,\n",
              " 'yr_built': -0.0,\n",
              " 'zipcode': 0.0}"
            ]
          },
          "metadata": {
            "tags": []
          },
          "execution_count": 303
        }
      ]
    },
    {
      "cell_type": "markdown",
      "metadata": {
        "id": "xrmHVMVsVS--",
        "colab_type": "text"
      },
      "source": [
        "## 9. Follow up questions"
      ]
    },
    {
      "cell_type": "markdown",
      "metadata": {
        "id": "HPQviDmNtta8",
        "colab_type": "text"
      },
      "source": [
        "### a). Did we have the right data?\n",
        "NO!"
      ]
    },
    {
      "cell_type": "markdown",
      "metadata": {
        "id": "qjFHK1CKty7o",
        "colab_type": "text"
      },
      "source": [
        "### b). Do we need other data to answer our question?\n",
        "YES! More conclusive features should be included."
      ]
    },
    {
      "cell_type": "markdown",
      "metadata": {
        "id": "HSsicSdvt4Zs",
        "colab_type": "text"
      },
      "source": [
        "### c). Did we have the right question?\n",
        "\n",
        "YES!\n",
        "Football is  greatly loved sport and predicting the outcome of a match based on previous outcomes is an interesting challenge."
      ]
    },
    {
      "cell_type": "markdown",
      "metadata": {
        "id": "jgmcgjwS1Jf9",
        "colab_type": "text"
      },
      "source": [
        "#Conclusion"
      ]
    },
    {
      "cell_type": "code",
      "metadata": {
        "id": "_JAf9NX2rNFc",
        "colab_type": "code",
        "colab": {}
      },
      "source": [
        "#models and their respective \n",
        "models =[]\n"
      ],
      "execution_count": 0,
      "outputs": []
    },
    {
      "cell_type": "markdown",
      "metadata": {
        "id": "BpN5mrFml6FW",
        "colab_type": "text"
      },
      "source": [
        "Polynomial Regression and Logistic Regression do not yield an accurate model to predict the FIFA outcomes hence other Modelling techniques should be considered"
      ]
    }
  ]
}